{
 "cells": [
  {
   "cell_type": "markdown",
   "metadata": {},
   "source": [
    "# Titanic Machine Learning\n",
    "All aboard the Titanic... will you be one of the lucky ones that survives? In this machine learning exercise, I intend to find out. I'm using the standard [Kaggle Titanic dataset](https://www.kaggle.com/c/titanic) to practice using a classifier.\n",
    "\n",
    "This notebook is organized as follows:\n",
    "- [Exploratory Data Analysis](#exploratory_data_analysis)\n",
    "    - [Training Data](#exploratory_data_analysis_training)\n",
    "    - [Test Data](#exploratory_data_analysis_test)\n",
    "- [Further Data Cleaning](#further_data_cleaning)\n",
    "    - [Training Data](further_data_cleaning_training)\n",
    "        - [Age](#further_data_cleaning_training_age)\n",
    "        - [Port of Embarkment](#further_data_cleaning_training_embarkment)\n",
    "        - [Cabin](#further_data_cleaning_training_cabin)\n",
    "    - [Test Data](#further_data_cleaning_test)\n",
    "        - [Age](#further_data_cleaning_test_age)\n",
    "        - [Fare](#further_data_cleaning_test_fare)\n",
    "- [Further Data Analysis](#further_data_analysis)\n",
    "    - [Useful Functions](#further_data_analysis_useful_functions)\n",
    "    - [Age](#further_data_analysis_age)\n",
    "    - [Passenger Class](#further_data_analysis_pclass)\n",
    "    - [Siblings and Spouses](#further_data_analysis_sibsp)\n",
    "    - [Sex](#further_data_analysis_sex)\n",
    "    - [Fare](#further_data_analysis_fare)\n",
    "    - [Parents and Children](#further_data_analysis_parch)\n",
    "    - [Port of Embarkment](#further_data_analysis_embarked)\n",
    "    - [Summary](#further_data_analysis_summary)\n",
    "- [Feature Engineering](#feature_engineering)\n",
    "    - [Title](#feature_engineering_title)\n",
    "    - [Socioeconic Stratum](#feature_engineering_socioec)\n",
    "- [Machine Learning](#machine_learning)\n",
    "    - [Attempt 1: Random Forest, All Numerical and Categorical Features 78.95%](#machine_learning_attempt_1)\n",
    "    - [Attempt 2: Random Forest, Strong Determinants, 77.75%](#machine_learning_attempt_2)\n",
    "    - [Attempt 3: Random Forest, Strongest and Strong Determinants, 77.75%](#machine_learning_attempt_3)\n",
    "    - [Attempt 4: Random Forest, Include Socioeconomic Strata Feature, 78.71%](#machine_learning_attempt_4)\n",
    "    - [Attempt 5: K Nearest Neighbours, 66.27%](#machine_learning_attempt_5)"
   ]
  },
  {
   "cell_type": "markdown",
   "metadata": {},
   "source": [
    "<a id='exploratory_data_analysis'></a>\n",
    "# Exploratory Data Analysis"
   ]
  },
  {
   "cell_type": "code",
   "execution_count": 1,
   "metadata": {},
   "outputs": [],
   "source": [
    "# Load in the libraries we'll need\n",
    "import numpy as np\n",
    "import pandas as pd\n",
    "import matplotlib.pyplot as plt"
   ]
  },
  {
   "cell_type": "code",
   "execution_count": 2,
   "metadata": {},
   "outputs": [],
   "source": [
    "# Global constants\n",
    "FIG_WIDTH_INCHES = 5\n",
    "FIG_HEIGHT_INCHES = 5\n",
    "LABEL_SIZE_POINT = 12\n",
    "TICK_LABEL_SIZE_POINT = 11\n",
    "TITLE_SIZE_POINT = 14\n",
    "TITANIC_COLOUR = \"#31343F\"\n",
    "SURVIVED_COLOUR = \"#86BD8A\"\n",
    "DID_NOT_SURVIVE_COLOUR = \"#BF6060\""
   ]
  },
  {
   "cell_type": "code",
   "execution_count": 3,
   "metadata": {},
   "outputs": [],
   "source": [
    "# Display options\n",
    "\n",
    "pd.set_option('display.max_rows', 100)\n",
    "pd.set_option('display.max_columns', 100)"
   ]
  },
  {
   "cell_type": "code",
   "execution_count": 4,
   "metadata": {},
   "outputs": [],
   "source": [
    "# Load titanic data\n",
    "def load_titanic_data():\n",
    "    train= pd.read_csv('./train.csv')\n",
    "    test = pd.read_csv('./test.csv')\n",
    "    return [train, test]"
   ]
  },
  {
   "cell_type": "code",
   "execution_count": 5,
   "metadata": {},
   "outputs": [],
   "source": [
    "train_data = load_titanic_data()[0]\n",
    "test_data = load_titanic_data()[1]"
   ]
  },
  {
   "cell_type": "markdown",
   "metadata": {},
   "source": [
    "<a id=\"exploratory_data_analysis_training\"></a>\n",
    "## Training Data\n",
    "Let's look at the training data and get a sense for what's in it"
   ]
  },
  {
   "cell_type": "code",
   "execution_count": 6,
   "metadata": {},
   "outputs": [
    {
     "data": {
      "text/html": [
       "<div>\n",
       "<style scoped>\n",
       "    .dataframe tbody tr th:only-of-type {\n",
       "        vertical-align: middle;\n",
       "    }\n",
       "\n",
       "    .dataframe tbody tr th {\n",
       "        vertical-align: top;\n",
       "    }\n",
       "\n",
       "    .dataframe thead th {\n",
       "        text-align: right;\n",
       "    }\n",
       "</style>\n",
       "<table border=\"1\" class=\"dataframe\">\n",
       "  <thead>\n",
       "    <tr style=\"text-align: right;\">\n",
       "      <th></th>\n",
       "      <th>PassengerId</th>\n",
       "      <th>Survived</th>\n",
       "      <th>Pclass</th>\n",
       "      <th>Name</th>\n",
       "      <th>Sex</th>\n",
       "      <th>Age</th>\n",
       "      <th>SibSp</th>\n",
       "      <th>Parch</th>\n",
       "      <th>Ticket</th>\n",
       "      <th>Fare</th>\n",
       "      <th>Cabin</th>\n",
       "      <th>Embarked</th>\n",
       "    </tr>\n",
       "  </thead>\n",
       "  <tbody>\n",
       "    <tr>\n",
       "      <th>0</th>\n",
       "      <td>1</td>\n",
       "      <td>0</td>\n",
       "      <td>3</td>\n",
       "      <td>Braund, Mr. Owen Harris</td>\n",
       "      <td>male</td>\n",
       "      <td>22.0</td>\n",
       "      <td>1</td>\n",
       "      <td>0</td>\n",
       "      <td>A/5 21171</td>\n",
       "      <td>7.2500</td>\n",
       "      <td>NaN</td>\n",
       "      <td>S</td>\n",
       "    </tr>\n",
       "    <tr>\n",
       "      <th>1</th>\n",
       "      <td>2</td>\n",
       "      <td>1</td>\n",
       "      <td>1</td>\n",
       "      <td>Cumings, Mrs. John Bradley (Florence Briggs Th...</td>\n",
       "      <td>female</td>\n",
       "      <td>38.0</td>\n",
       "      <td>1</td>\n",
       "      <td>0</td>\n",
       "      <td>PC 17599</td>\n",
       "      <td>71.2833</td>\n",
       "      <td>C85</td>\n",
       "      <td>C</td>\n",
       "    </tr>\n",
       "    <tr>\n",
       "      <th>2</th>\n",
       "      <td>3</td>\n",
       "      <td>1</td>\n",
       "      <td>3</td>\n",
       "      <td>Heikkinen, Miss. Laina</td>\n",
       "      <td>female</td>\n",
       "      <td>26.0</td>\n",
       "      <td>0</td>\n",
       "      <td>0</td>\n",
       "      <td>STON/O2. 3101282</td>\n",
       "      <td>7.9250</td>\n",
       "      <td>NaN</td>\n",
       "      <td>S</td>\n",
       "    </tr>\n",
       "    <tr>\n",
       "      <th>3</th>\n",
       "      <td>4</td>\n",
       "      <td>1</td>\n",
       "      <td>1</td>\n",
       "      <td>Futrelle, Mrs. Jacques Heath (Lily May Peel)</td>\n",
       "      <td>female</td>\n",
       "      <td>35.0</td>\n",
       "      <td>1</td>\n",
       "      <td>0</td>\n",
       "      <td>113803</td>\n",
       "      <td>53.1000</td>\n",
       "      <td>C123</td>\n",
       "      <td>S</td>\n",
       "    </tr>\n",
       "    <tr>\n",
       "      <th>4</th>\n",
       "      <td>5</td>\n",
       "      <td>0</td>\n",
       "      <td>3</td>\n",
       "      <td>Allen, Mr. William Henry</td>\n",
       "      <td>male</td>\n",
       "      <td>35.0</td>\n",
       "      <td>0</td>\n",
       "      <td>0</td>\n",
       "      <td>373450</td>\n",
       "      <td>8.0500</td>\n",
       "      <td>NaN</td>\n",
       "      <td>S</td>\n",
       "    </tr>\n",
       "    <tr>\n",
       "      <th>5</th>\n",
       "      <td>6</td>\n",
       "      <td>0</td>\n",
       "      <td>3</td>\n",
       "      <td>Moran, Mr. James</td>\n",
       "      <td>male</td>\n",
       "      <td>NaN</td>\n",
       "      <td>0</td>\n",
       "      <td>0</td>\n",
       "      <td>330877</td>\n",
       "      <td>8.4583</td>\n",
       "      <td>NaN</td>\n",
       "      <td>Q</td>\n",
       "    </tr>\n",
       "    <tr>\n",
       "      <th>6</th>\n",
       "      <td>7</td>\n",
       "      <td>0</td>\n",
       "      <td>1</td>\n",
       "      <td>McCarthy, Mr. Timothy J</td>\n",
       "      <td>male</td>\n",
       "      <td>54.0</td>\n",
       "      <td>0</td>\n",
       "      <td>0</td>\n",
       "      <td>17463</td>\n",
       "      <td>51.8625</td>\n",
       "      <td>E46</td>\n",
       "      <td>S</td>\n",
       "    </tr>\n",
       "    <tr>\n",
       "      <th>7</th>\n",
       "      <td>8</td>\n",
       "      <td>0</td>\n",
       "      <td>3</td>\n",
       "      <td>Palsson, Master. Gosta Leonard</td>\n",
       "      <td>male</td>\n",
       "      <td>2.0</td>\n",
       "      <td>3</td>\n",
       "      <td>1</td>\n",
       "      <td>349909</td>\n",
       "      <td>21.0750</td>\n",
       "      <td>NaN</td>\n",
       "      <td>S</td>\n",
       "    </tr>\n",
       "    <tr>\n",
       "      <th>8</th>\n",
       "      <td>9</td>\n",
       "      <td>1</td>\n",
       "      <td>3</td>\n",
       "      <td>Johnson, Mrs. Oscar W (Elisabeth Vilhelmina Berg)</td>\n",
       "      <td>female</td>\n",
       "      <td>27.0</td>\n",
       "      <td>0</td>\n",
       "      <td>2</td>\n",
       "      <td>347742</td>\n",
       "      <td>11.1333</td>\n",
       "      <td>NaN</td>\n",
       "      <td>S</td>\n",
       "    </tr>\n",
       "    <tr>\n",
       "      <th>9</th>\n",
       "      <td>10</td>\n",
       "      <td>1</td>\n",
       "      <td>2</td>\n",
       "      <td>Nasser, Mrs. Nicholas (Adele Achem)</td>\n",
       "      <td>female</td>\n",
       "      <td>14.0</td>\n",
       "      <td>1</td>\n",
       "      <td>0</td>\n",
       "      <td>237736</td>\n",
       "      <td>30.0708</td>\n",
       "      <td>NaN</td>\n",
       "      <td>C</td>\n",
       "    </tr>\n",
       "    <tr>\n",
       "      <th>10</th>\n",
       "      <td>11</td>\n",
       "      <td>1</td>\n",
       "      <td>3</td>\n",
       "      <td>Sandstrom, Miss. Marguerite Rut</td>\n",
       "      <td>female</td>\n",
       "      <td>4.0</td>\n",
       "      <td>1</td>\n",
       "      <td>1</td>\n",
       "      <td>PP 9549</td>\n",
       "      <td>16.7000</td>\n",
       "      <td>G6</td>\n",
       "      <td>S</td>\n",
       "    </tr>\n",
       "    <tr>\n",
       "      <th>11</th>\n",
       "      <td>12</td>\n",
       "      <td>1</td>\n",
       "      <td>1</td>\n",
       "      <td>Bonnell, Miss. Elizabeth</td>\n",
       "      <td>female</td>\n",
       "      <td>58.0</td>\n",
       "      <td>0</td>\n",
       "      <td>0</td>\n",
       "      <td>113783</td>\n",
       "      <td>26.5500</td>\n",
       "      <td>C103</td>\n",
       "      <td>S</td>\n",
       "    </tr>\n",
       "    <tr>\n",
       "      <th>12</th>\n",
       "      <td>13</td>\n",
       "      <td>0</td>\n",
       "      <td>3</td>\n",
       "      <td>Saundercock, Mr. William Henry</td>\n",
       "      <td>male</td>\n",
       "      <td>20.0</td>\n",
       "      <td>0</td>\n",
       "      <td>0</td>\n",
       "      <td>A/5. 2151</td>\n",
       "      <td>8.0500</td>\n",
       "      <td>NaN</td>\n",
       "      <td>S</td>\n",
       "    </tr>\n",
       "    <tr>\n",
       "      <th>13</th>\n",
       "      <td>14</td>\n",
       "      <td>0</td>\n",
       "      <td>3</td>\n",
       "      <td>Andersson, Mr. Anders Johan</td>\n",
       "      <td>male</td>\n",
       "      <td>39.0</td>\n",
       "      <td>1</td>\n",
       "      <td>5</td>\n",
       "      <td>347082</td>\n",
       "      <td>31.2750</td>\n",
       "      <td>NaN</td>\n",
       "      <td>S</td>\n",
       "    </tr>\n",
       "    <tr>\n",
       "      <th>14</th>\n",
       "      <td>15</td>\n",
       "      <td>0</td>\n",
       "      <td>3</td>\n",
       "      <td>Vestrom, Miss. Hulda Amanda Adolfina</td>\n",
       "      <td>female</td>\n",
       "      <td>14.0</td>\n",
       "      <td>0</td>\n",
       "      <td>0</td>\n",
       "      <td>350406</td>\n",
       "      <td>7.8542</td>\n",
       "      <td>NaN</td>\n",
       "      <td>S</td>\n",
       "    </tr>\n",
       "  </tbody>\n",
       "</table>\n",
       "</div>"
      ],
      "text/plain": [
       "    PassengerId  Survived  Pclass  \\\n",
       "0             1         0       3   \n",
       "1             2         1       1   \n",
       "2             3         1       3   \n",
       "3             4         1       1   \n",
       "4             5         0       3   \n",
       "5             6         0       3   \n",
       "6             7         0       1   \n",
       "7             8         0       3   \n",
       "8             9         1       3   \n",
       "9            10         1       2   \n",
       "10           11         1       3   \n",
       "11           12         1       1   \n",
       "12           13         0       3   \n",
       "13           14         0       3   \n",
       "14           15         0       3   \n",
       "\n",
       "                                                 Name     Sex   Age  SibSp  \\\n",
       "0                             Braund, Mr. Owen Harris    male  22.0      1   \n",
       "1   Cumings, Mrs. John Bradley (Florence Briggs Th...  female  38.0      1   \n",
       "2                              Heikkinen, Miss. Laina  female  26.0      0   \n",
       "3        Futrelle, Mrs. Jacques Heath (Lily May Peel)  female  35.0      1   \n",
       "4                            Allen, Mr. William Henry    male  35.0      0   \n",
       "5                                    Moran, Mr. James    male   NaN      0   \n",
       "6                             McCarthy, Mr. Timothy J    male  54.0      0   \n",
       "7                      Palsson, Master. Gosta Leonard    male   2.0      3   \n",
       "8   Johnson, Mrs. Oscar W (Elisabeth Vilhelmina Berg)  female  27.0      0   \n",
       "9                 Nasser, Mrs. Nicholas (Adele Achem)  female  14.0      1   \n",
       "10                    Sandstrom, Miss. Marguerite Rut  female   4.0      1   \n",
       "11                           Bonnell, Miss. Elizabeth  female  58.0      0   \n",
       "12                     Saundercock, Mr. William Henry    male  20.0      0   \n",
       "13                        Andersson, Mr. Anders Johan    male  39.0      1   \n",
       "14               Vestrom, Miss. Hulda Amanda Adolfina  female  14.0      0   \n",
       "\n",
       "    Parch            Ticket     Fare Cabin Embarked  \n",
       "0       0         A/5 21171   7.2500   NaN        S  \n",
       "1       0          PC 17599  71.2833   C85        C  \n",
       "2       0  STON/O2. 3101282   7.9250   NaN        S  \n",
       "3       0            113803  53.1000  C123        S  \n",
       "4       0            373450   8.0500   NaN        S  \n",
       "5       0            330877   8.4583   NaN        Q  \n",
       "6       0             17463  51.8625   E46        S  \n",
       "7       1            349909  21.0750   NaN        S  \n",
       "8       2            347742  11.1333   NaN        S  \n",
       "9       0            237736  30.0708   NaN        C  \n",
       "10      1           PP 9549  16.7000    G6        S  \n",
       "11      0            113783  26.5500  C103        S  \n",
       "12      0         A/5. 2151   8.0500   NaN        S  \n",
       "13      5            347082  31.2750   NaN        S  \n",
       "14      0            350406   7.8542   NaN        S  "
      ]
     },
     "execution_count": 6,
     "metadata": {},
     "output_type": "execute_result"
    }
   ],
   "source": [
    "# Peruse the data\n",
    "train_data.head(15)"
   ]
  },
  {
   "cell_type": "markdown",
   "metadata": {},
   "source": [
    "We notice that there some missing ages, and that the cabin information is missing a lot. Use the `info()` method to get an idea of how complete the data is."
   ]
  },
  {
   "cell_type": "code",
   "execution_count": 7,
   "metadata": {},
   "outputs": [
    {
     "name": "stdout",
     "output_type": "stream",
     "text": [
      "<class 'pandas.core.frame.DataFrame'>\n",
      "RangeIndex: 891 entries, 0 to 890\n",
      "Data columns (total 12 columns):\n",
      " #   Column       Non-Null Count  Dtype  \n",
      "---  ------       --------------  -----  \n",
      " 0   PassengerId  891 non-null    int64  \n",
      " 1   Survived     891 non-null    int64  \n",
      " 2   Pclass       891 non-null    int64  \n",
      " 3   Name         891 non-null    object \n",
      " 4   Sex          891 non-null    object \n",
      " 5   Age          714 non-null    float64\n",
      " 6   SibSp        891 non-null    int64  \n",
      " 7   Parch        891 non-null    int64  \n",
      " 8   Ticket       891 non-null    object \n",
      " 9   Fare         891 non-null    float64\n",
      " 10  Cabin        204 non-null    object \n",
      " 11  Embarked     889 non-null    object \n",
      "dtypes: float64(2), int64(5), object(5)\n",
      "memory usage: 83.7+ KB\n"
     ]
    }
   ],
   "source": [
    "train_data.info()"
   ]
  },
  {
   "cell_type": "markdown",
   "metadata": {},
   "source": [
    "Let's look at how the variables are correlated."
   ]
  },
  {
   "cell_type": "code",
   "execution_count": 8,
   "metadata": {},
   "outputs": [
    {
     "data": {
      "text/html": [
       "<div>\n",
       "<style scoped>\n",
       "    .dataframe tbody tr th:only-of-type {\n",
       "        vertical-align: middle;\n",
       "    }\n",
       "\n",
       "    .dataframe tbody tr th {\n",
       "        vertical-align: top;\n",
       "    }\n",
       "\n",
       "    .dataframe thead th {\n",
       "        text-align: right;\n",
       "    }\n",
       "</style>\n",
       "<table border=\"1\" class=\"dataframe\">\n",
       "  <thead>\n",
       "    <tr style=\"text-align: right;\">\n",
       "      <th></th>\n",
       "      <th>PassengerId</th>\n",
       "      <th>Survived</th>\n",
       "      <th>Pclass</th>\n",
       "      <th>Age</th>\n",
       "      <th>SibSp</th>\n",
       "      <th>Parch</th>\n",
       "      <th>Fare</th>\n",
       "    </tr>\n",
       "  </thead>\n",
       "  <tbody>\n",
       "    <tr>\n",
       "      <th>PassengerId</th>\n",
       "      <td>1.000000</td>\n",
       "      <td>-0.005007</td>\n",
       "      <td>-0.035144</td>\n",
       "      <td>0.036847</td>\n",
       "      <td>-0.057527</td>\n",
       "      <td>-0.001652</td>\n",
       "      <td>0.012658</td>\n",
       "    </tr>\n",
       "    <tr>\n",
       "      <th>Survived</th>\n",
       "      <td>-0.005007</td>\n",
       "      <td>1.000000</td>\n",
       "      <td>-0.338481</td>\n",
       "      <td>-0.077221</td>\n",
       "      <td>-0.035322</td>\n",
       "      <td>0.081629</td>\n",
       "      <td>0.257307</td>\n",
       "    </tr>\n",
       "    <tr>\n",
       "      <th>Pclass</th>\n",
       "      <td>-0.035144</td>\n",
       "      <td>-0.338481</td>\n",
       "      <td>1.000000</td>\n",
       "      <td>-0.369226</td>\n",
       "      <td>0.083081</td>\n",
       "      <td>0.018443</td>\n",
       "      <td>-0.549500</td>\n",
       "    </tr>\n",
       "    <tr>\n",
       "      <th>Age</th>\n",
       "      <td>0.036847</td>\n",
       "      <td>-0.077221</td>\n",
       "      <td>-0.369226</td>\n",
       "      <td>1.000000</td>\n",
       "      <td>-0.308247</td>\n",
       "      <td>-0.189119</td>\n",
       "      <td>0.096067</td>\n",
       "    </tr>\n",
       "    <tr>\n",
       "      <th>SibSp</th>\n",
       "      <td>-0.057527</td>\n",
       "      <td>-0.035322</td>\n",
       "      <td>0.083081</td>\n",
       "      <td>-0.308247</td>\n",
       "      <td>1.000000</td>\n",
       "      <td>0.414838</td>\n",
       "      <td>0.159651</td>\n",
       "    </tr>\n",
       "    <tr>\n",
       "      <th>Parch</th>\n",
       "      <td>-0.001652</td>\n",
       "      <td>0.081629</td>\n",
       "      <td>0.018443</td>\n",
       "      <td>-0.189119</td>\n",
       "      <td>0.414838</td>\n",
       "      <td>1.000000</td>\n",
       "      <td>0.216225</td>\n",
       "    </tr>\n",
       "    <tr>\n",
       "      <th>Fare</th>\n",
       "      <td>0.012658</td>\n",
       "      <td>0.257307</td>\n",
       "      <td>-0.549500</td>\n",
       "      <td>0.096067</td>\n",
       "      <td>0.159651</td>\n",
       "      <td>0.216225</td>\n",
       "      <td>1.000000</td>\n",
       "    </tr>\n",
       "  </tbody>\n",
       "</table>\n",
       "</div>"
      ],
      "text/plain": [
       "             PassengerId  Survived    Pclass       Age     SibSp     Parch  \\\n",
       "PassengerId     1.000000 -0.005007 -0.035144  0.036847 -0.057527 -0.001652   \n",
       "Survived       -0.005007  1.000000 -0.338481 -0.077221 -0.035322  0.081629   \n",
       "Pclass         -0.035144 -0.338481  1.000000 -0.369226  0.083081  0.018443   \n",
       "Age             0.036847 -0.077221 -0.369226  1.000000 -0.308247 -0.189119   \n",
       "SibSp          -0.057527 -0.035322  0.083081 -0.308247  1.000000  0.414838   \n",
       "Parch          -0.001652  0.081629  0.018443 -0.189119  0.414838  1.000000   \n",
       "Fare            0.012658  0.257307 -0.549500  0.096067  0.159651  0.216225   \n",
       "\n",
       "                 Fare  \n",
       "PassengerId  0.012658  \n",
       "Survived     0.257307  \n",
       "Pclass      -0.549500  \n",
       "Age          0.096067  \n",
       "SibSp        0.159651  \n",
       "Parch        0.216225  \n",
       "Fare         1.000000  "
      ]
     },
     "execution_count": 8,
     "metadata": {},
     "output_type": "execute_result"
    }
   ],
   "source": [
    "train_data.corr()"
   ]
  },
  {
   "cell_type": "markdown",
   "metadata": {},
   "source": [
    "Among the numerical variables, the Survived variable is most strongly correlated with the Pclass and the Fare variable. We expect this: the lower the passenger's class number the more likely they are to survive (e.g. First class passengers are more likely to survive than third class). The more a passenger paid for their ticket, the more likely they are to survive. Overall, nothing mysterious here.\n",
    "\n",
    "Overall, this is a clean data set apart from the Cabin variable and a few missing ages. Oddly enough, there are a couple people who's port of embarkment is not known. Let's deal with these."
   ]
  },
  {
   "cell_type": "markdown",
   "metadata": {},
   "source": [
    "<a id=\"exploratory_data_analysis_test\"></a>\n",
    "## Test Data\n",
    "We shouldn't look at the test data to avoid any biases we might get in crafting our machine learning algorithm. Let's, however, take a look to see if it's missing any values. Any transformations we put to the training data, we'll also put to the test data. We'll also find out if we need to do additional transformations to the test data."
   ]
  },
  {
   "cell_type": "code",
   "execution_count": 9,
   "metadata": {},
   "outputs": [
    {
     "name": "stdout",
     "output_type": "stream",
     "text": [
      "<class 'pandas.core.frame.DataFrame'>\n",
      "RangeIndex: 418 entries, 0 to 417\n",
      "Data columns (total 11 columns):\n",
      " #   Column       Non-Null Count  Dtype  \n",
      "---  ------       --------------  -----  \n",
      " 0   PassengerId  418 non-null    int64  \n",
      " 1   Pclass       418 non-null    int64  \n",
      " 2   Name         418 non-null    object \n",
      " 3   Sex          418 non-null    object \n",
      " 4   Age          332 non-null    float64\n",
      " 5   SibSp        418 non-null    int64  \n",
      " 6   Parch        418 non-null    int64  \n",
      " 7   Ticket       418 non-null    object \n",
      " 8   Fare         417 non-null    float64\n",
      " 9   Cabin        91 non-null     object \n",
      " 10  Embarked     418 non-null    object \n",
      "dtypes: float64(2), int64(4), object(5)\n",
      "memory usage: 36.0+ KB\n"
     ]
    }
   ],
   "source": [
    "test_data.info()"
   ]
  },
  {
   "cell_type": "markdown",
   "metadata": {},
   "source": [
    "We are missing 86 Age values, and one Fare values. Let's address these in the next section."
   ]
  },
  {
   "cell_type": "markdown",
   "metadata": {},
   "source": [
    "<a id=\"further_data_cleaning\"></a>\n",
    "# Further Data Cleaning\n",
    "Let's fill in the missing ages and embarkment in the training data. Apply the same transformations to the test data. Fill in the missing Fare value in the test data."
   ]
  },
  {
   "cell_type": "markdown",
   "metadata": {},
   "source": [
    "<a id=\"further_data_cleaning_training\"></a>\n",
    "## Training Data"
   ]
  },
  {
   "cell_type": "markdown",
   "metadata": {},
   "source": [
    "<a id=\"further_data_cleaning_training_age\"></a>\n",
    "### Age\n",
    "Get the mean age by gender fill any NaNs for age with the appropriate mean value. For example, if a woman's age is missing, replace it with the mean age of all women aboard the Titanic.\n",
    "\n",
    "There are more complicated imputations: we could account for passenger class, but let's keep it simple for now."
   ]
  },
  {
   "cell_type": "code",
   "execution_count": 10,
   "metadata": {},
   "outputs": [
    {
     "data": {
      "text/plain": [
       "male      577\n",
       "female    314\n",
       "Name: Sex, dtype: int64"
      ]
     },
     "execution_count": 10,
     "metadata": {},
     "output_type": "execute_result"
    }
   ],
   "source": [
    "# Get unique gender values\n",
    "train_data[\"Sex\"].value_counts()"
   ]
  },
  {
   "cell_type": "code",
   "execution_count": 11,
   "metadata": {},
   "outputs": [
    {
     "data": {
      "text/html": [
       "<div>\n",
       "<style scoped>\n",
       "    .dataframe tbody tr th:only-of-type {\n",
       "        vertical-align: middle;\n",
       "    }\n",
       "\n",
       "    .dataframe tbody tr th {\n",
       "        vertical-align: top;\n",
       "    }\n",
       "\n",
       "    .dataframe thead th {\n",
       "        text-align: right;\n",
       "    }\n",
       "</style>\n",
       "<table border=\"1\" class=\"dataframe\">\n",
       "  <thead>\n",
       "    <tr style=\"text-align: right;\">\n",
       "      <th></th>\n",
       "      <th>Age</th>\n",
       "    </tr>\n",
       "    <tr>\n",
       "      <th>Sex</th>\n",
       "      <th></th>\n",
       "    </tr>\n",
       "  </thead>\n",
       "  <tbody>\n",
       "    <tr>\n",
       "      <th>female</th>\n",
       "      <td>27.915709</td>\n",
       "    </tr>\n",
       "    <tr>\n",
       "      <th>male</th>\n",
       "      <td>30.726645</td>\n",
       "    </tr>\n",
       "  </tbody>\n",
       "</table>\n",
       "</div>"
      ],
      "text/plain": [
       "              Age\n",
       "Sex              \n",
       "female  27.915709\n",
       "male    30.726645"
      ]
     },
     "execution_count": 11,
     "metadata": {},
     "output_type": "execute_result"
    }
   ],
   "source": [
    "# Get the mean age of men and women\n",
    "age_by_gender = train_data[\n",
    "    [\n",
    "        \"Sex\",\n",
    "        \"Age\"\n",
    "    ]\n",
    "].groupby(\"Sex\").agg(\n",
    "    {\n",
    "        \"Age\": \"mean\"\n",
    "    }\n",
    ")\n",
    "age_by_gender"
   ]
  },
  {
   "cell_type": "markdown",
   "metadata": {},
   "source": [
    "Males on the titanic, on average, were older than women."
   ]
  },
  {
   "cell_type": "code",
   "execution_count": 12,
   "metadata": {},
   "outputs": [],
   "source": [
    "# Impute the missing ages. Drop this into a function so we can re-use it on the test data.\n",
    "def impute_age(data, mean_age_by_gender):\n",
    "    data.loc[\n",
    "        (data[\"Sex\"] == \"male\")\n",
    "        & (pd.isna(data[\"Age\"])),\n",
    "        \"Age\"\n",
    "    ] = mean_age_by_gender.loc[\n",
    "        \"male\",\n",
    "        \"Age\"\n",
    "    ]\n",
    "\n",
    "    data.loc[\n",
    "        (data[\"Sex\"] == \"female\")\n",
    "        & (pd.isna(data[\"Age\"])),\n",
    "        \"Age\"\n",
    "    ] = mean_age_by_gender.loc[\n",
    "        \"female\",\n",
    "        \"Age\"\n",
    "    ]\n",
    "\n",
    "\n",
    "impute_age(train_data, age_by_gender)"
   ]
  },
  {
   "cell_type": "code",
   "execution_count": 13,
   "metadata": {},
   "outputs": [
    {
     "name": "stdout",
     "output_type": "stream",
     "text": [
      "<class 'pandas.core.frame.DataFrame'>\n",
      "RangeIndex: 891 entries, 0 to 890\n",
      "Data columns (total 12 columns):\n",
      " #   Column       Non-Null Count  Dtype  \n",
      "---  ------       --------------  -----  \n",
      " 0   PassengerId  891 non-null    int64  \n",
      " 1   Survived     891 non-null    int64  \n",
      " 2   Pclass       891 non-null    int64  \n",
      " 3   Name         891 non-null    object \n",
      " 4   Sex          891 non-null    object \n",
      " 5   Age          891 non-null    float64\n",
      " 6   SibSp        891 non-null    int64  \n",
      " 7   Parch        891 non-null    int64  \n",
      " 8   Ticket       891 non-null    object \n",
      " 9   Fare         891 non-null    float64\n",
      " 10  Cabin        204 non-null    object \n",
      " 11  Embarked     889 non-null    object \n",
      "dtypes: float64(2), int64(5), object(5)\n",
      "memory usage: 83.7+ KB\n"
     ]
    }
   ],
   "source": [
    "# Check that there are no more missing Age values.\n",
    "train_data.info()"
   ]
  },
  {
   "cell_type": "markdown",
   "metadata": {},
   "source": [
    "<a id=\"further_data_cleaning_training_embarkment\"></a>\n",
    "### Port of Embarkment\n",
    "Let's see what are the two records whose port of embarkents aren't known."
   ]
  },
  {
   "cell_type": "code",
   "execution_count": 14,
   "metadata": {},
   "outputs": [
    {
     "data": {
      "text/html": [
       "<div>\n",
       "<style scoped>\n",
       "    .dataframe tbody tr th:only-of-type {\n",
       "        vertical-align: middle;\n",
       "    }\n",
       "\n",
       "    .dataframe tbody tr th {\n",
       "        vertical-align: top;\n",
       "    }\n",
       "\n",
       "    .dataframe thead th {\n",
       "        text-align: right;\n",
       "    }\n",
       "</style>\n",
       "<table border=\"1\" class=\"dataframe\">\n",
       "  <thead>\n",
       "    <tr style=\"text-align: right;\">\n",
       "      <th></th>\n",
       "      <th>PassengerId</th>\n",
       "      <th>Survived</th>\n",
       "      <th>Pclass</th>\n",
       "      <th>Name</th>\n",
       "      <th>Sex</th>\n",
       "      <th>Age</th>\n",
       "      <th>SibSp</th>\n",
       "      <th>Parch</th>\n",
       "      <th>Ticket</th>\n",
       "      <th>Fare</th>\n",
       "      <th>Cabin</th>\n",
       "      <th>Embarked</th>\n",
       "    </tr>\n",
       "  </thead>\n",
       "  <tbody>\n",
       "    <tr>\n",
       "      <th>61</th>\n",
       "      <td>62</td>\n",
       "      <td>1</td>\n",
       "      <td>1</td>\n",
       "      <td>Icard, Miss. Amelie</td>\n",
       "      <td>female</td>\n",
       "      <td>38.0</td>\n",
       "      <td>0</td>\n",
       "      <td>0</td>\n",
       "      <td>113572</td>\n",
       "      <td>80.0</td>\n",
       "      <td>B28</td>\n",
       "      <td>NaN</td>\n",
       "    </tr>\n",
       "    <tr>\n",
       "      <th>829</th>\n",
       "      <td>830</td>\n",
       "      <td>1</td>\n",
       "      <td>1</td>\n",
       "      <td>Stone, Mrs. George Nelson (Martha Evelyn)</td>\n",
       "      <td>female</td>\n",
       "      <td>62.0</td>\n",
       "      <td>0</td>\n",
       "      <td>0</td>\n",
       "      <td>113572</td>\n",
       "      <td>80.0</td>\n",
       "      <td>B28</td>\n",
       "      <td>NaN</td>\n",
       "    </tr>\n",
       "  </tbody>\n",
       "</table>\n",
       "</div>"
      ],
      "text/plain": [
       "     PassengerId  Survived  Pclass                                       Name  \\\n",
       "61            62         1       1                        Icard, Miss. Amelie   \n",
       "829          830         1       1  Stone, Mrs. George Nelson (Martha Evelyn)   \n",
       "\n",
       "        Sex   Age  SibSp  Parch  Ticket  Fare Cabin Embarked  \n",
       "61   female  38.0      0      0  113572  80.0   B28      NaN  \n",
       "829  female  62.0      0      0  113572  80.0   B28      NaN  "
      ]
     },
     "execution_count": 14,
     "metadata": {},
     "output_type": "execute_result"
    }
   ],
   "source": [
    "train_data[\n",
    "    pd.isna(train_data[\"Embarked\"])\n",
    "]"
   ]
  },
  {
   "cell_type": "markdown",
   "metadata": {},
   "source": [
    "Looking up these passengers, it seems that [Miss Amelie Icard](https://www.encyclopedia-titanica.org/titanic-survivor/amelia-icard.html) embarked at Southampton, and [Mrs. Martha Evelyn Stone](https://www.encyclopedia-titanica.org/titanic-survivor/martha-evelyn-stone.html) embarked at Southampton. Fill in these values."
   ]
  },
  {
   "cell_type": "code",
   "execution_count": 15,
   "metadata": {},
   "outputs": [],
   "source": [
    "# Since both passengers embarked at Southampton, just set the missing values to \"S\".\n",
    "train_data.loc[\n",
    "    pd.isna(train_data[\"Embarked\"]),\n",
    "    \"Embarked\"\n",
    "] = \"S\""
   ]
  },
  {
   "cell_type": "code",
   "execution_count": 16,
   "metadata": {},
   "outputs": [
    {
     "name": "stdout",
     "output_type": "stream",
     "text": [
      "<class 'pandas.core.frame.DataFrame'>\n",
      "RangeIndex: 891 entries, 0 to 890\n",
      "Data columns (total 12 columns):\n",
      " #   Column       Non-Null Count  Dtype  \n",
      "---  ------       --------------  -----  \n",
      " 0   PassengerId  891 non-null    int64  \n",
      " 1   Survived     891 non-null    int64  \n",
      " 2   Pclass       891 non-null    int64  \n",
      " 3   Name         891 non-null    object \n",
      " 4   Sex          891 non-null    object \n",
      " 5   Age          891 non-null    float64\n",
      " 6   SibSp        891 non-null    int64  \n",
      " 7   Parch        891 non-null    int64  \n",
      " 8   Ticket       891 non-null    object \n",
      " 9   Fare         891 non-null    float64\n",
      " 10  Cabin        204 non-null    object \n",
      " 11  Embarked     891 non-null    object \n",
      "dtypes: float64(2), int64(5), object(5)\n",
      "memory usage: 83.7+ KB\n"
     ]
    }
   ],
   "source": [
    "# Check that we've fixed our missing values\n",
    "train_data.info()"
   ]
  },
  {
   "cell_type": "markdown",
   "metadata": {},
   "source": [
    "<a id=\"further_data_cleaning_training_cabin\"></a>\n",
    "### Cabin\n",
    "This one is trickier. There are 687 missing values. We *could* go through and find the info for each missing passenger and fix each record. But let's see if we can be smarter, and get away without using this feature. But this isn't necessarily even possible. For example [Mr. Owen Harris Braund](https://www.encyclopedia-titanica.org/titanic-victim/owen-harris-braund.html)'s cabin information is missing, yet his cabin doesn't seem to be known."
   ]
  },
  {
   "cell_type": "code",
   "execution_count": 17,
   "metadata": {},
   "outputs": [
    {
     "data": {
      "text/html": [
       "<div>\n",
       "<style scoped>\n",
       "    .dataframe tbody tr th:only-of-type {\n",
       "        vertical-align: middle;\n",
       "    }\n",
       "\n",
       "    .dataframe tbody tr th {\n",
       "        vertical-align: top;\n",
       "    }\n",
       "\n",
       "    .dataframe thead th {\n",
       "        text-align: right;\n",
       "    }\n",
       "</style>\n",
       "<table border=\"1\" class=\"dataframe\">\n",
       "  <thead>\n",
       "    <tr style=\"text-align: right;\">\n",
       "      <th></th>\n",
       "      <th>PassengerId</th>\n",
       "      <th>Survived</th>\n",
       "      <th>Pclass</th>\n",
       "      <th>Name</th>\n",
       "      <th>Sex</th>\n",
       "      <th>Age</th>\n",
       "      <th>SibSp</th>\n",
       "      <th>Parch</th>\n",
       "      <th>Ticket</th>\n",
       "      <th>Fare</th>\n",
       "      <th>Cabin</th>\n",
       "      <th>Embarked</th>\n",
       "    </tr>\n",
       "  </thead>\n",
       "  <tbody>\n",
       "    <tr>\n",
       "      <th>0</th>\n",
       "      <td>1</td>\n",
       "      <td>0</td>\n",
       "      <td>3</td>\n",
       "      <td>Braund, Mr. Owen Harris</td>\n",
       "      <td>male</td>\n",
       "      <td>22.000000</td>\n",
       "      <td>1</td>\n",
       "      <td>0</td>\n",
       "      <td>A/5 21171</td>\n",
       "      <td>7.2500</td>\n",
       "      <td>NaN</td>\n",
       "      <td>S</td>\n",
       "    </tr>\n",
       "    <tr>\n",
       "      <th>2</th>\n",
       "      <td>3</td>\n",
       "      <td>1</td>\n",
       "      <td>3</td>\n",
       "      <td>Heikkinen, Miss. Laina</td>\n",
       "      <td>female</td>\n",
       "      <td>26.000000</td>\n",
       "      <td>0</td>\n",
       "      <td>0</td>\n",
       "      <td>STON/O2. 3101282</td>\n",
       "      <td>7.9250</td>\n",
       "      <td>NaN</td>\n",
       "      <td>S</td>\n",
       "    </tr>\n",
       "    <tr>\n",
       "      <th>4</th>\n",
       "      <td>5</td>\n",
       "      <td>0</td>\n",
       "      <td>3</td>\n",
       "      <td>Allen, Mr. William Henry</td>\n",
       "      <td>male</td>\n",
       "      <td>35.000000</td>\n",
       "      <td>0</td>\n",
       "      <td>0</td>\n",
       "      <td>373450</td>\n",
       "      <td>8.0500</td>\n",
       "      <td>NaN</td>\n",
       "      <td>S</td>\n",
       "    </tr>\n",
       "    <tr>\n",
       "      <th>5</th>\n",
       "      <td>6</td>\n",
       "      <td>0</td>\n",
       "      <td>3</td>\n",
       "      <td>Moran, Mr. James</td>\n",
       "      <td>male</td>\n",
       "      <td>30.726645</td>\n",
       "      <td>0</td>\n",
       "      <td>0</td>\n",
       "      <td>330877</td>\n",
       "      <td>8.4583</td>\n",
       "      <td>NaN</td>\n",
       "      <td>Q</td>\n",
       "    </tr>\n",
       "    <tr>\n",
       "      <th>7</th>\n",
       "      <td>8</td>\n",
       "      <td>0</td>\n",
       "      <td>3</td>\n",
       "      <td>Palsson, Master. Gosta Leonard</td>\n",
       "      <td>male</td>\n",
       "      <td>2.000000</td>\n",
       "      <td>3</td>\n",
       "      <td>1</td>\n",
       "      <td>349909</td>\n",
       "      <td>21.0750</td>\n",
       "      <td>NaN</td>\n",
       "      <td>S</td>\n",
       "    </tr>\n",
       "    <tr>\n",
       "      <th>...</th>\n",
       "      <td>...</td>\n",
       "      <td>...</td>\n",
       "      <td>...</td>\n",
       "      <td>...</td>\n",
       "      <td>...</td>\n",
       "      <td>...</td>\n",
       "      <td>...</td>\n",
       "      <td>...</td>\n",
       "      <td>...</td>\n",
       "      <td>...</td>\n",
       "      <td>...</td>\n",
       "      <td>...</td>\n",
       "    </tr>\n",
       "    <tr>\n",
       "      <th>884</th>\n",
       "      <td>885</td>\n",
       "      <td>0</td>\n",
       "      <td>3</td>\n",
       "      <td>Sutehall, Mr. Henry Jr</td>\n",
       "      <td>male</td>\n",
       "      <td>25.000000</td>\n",
       "      <td>0</td>\n",
       "      <td>0</td>\n",
       "      <td>SOTON/OQ 392076</td>\n",
       "      <td>7.0500</td>\n",
       "      <td>NaN</td>\n",
       "      <td>S</td>\n",
       "    </tr>\n",
       "    <tr>\n",
       "      <th>885</th>\n",
       "      <td>886</td>\n",
       "      <td>0</td>\n",
       "      <td>3</td>\n",
       "      <td>Rice, Mrs. William (Margaret Norton)</td>\n",
       "      <td>female</td>\n",
       "      <td>39.000000</td>\n",
       "      <td>0</td>\n",
       "      <td>5</td>\n",
       "      <td>382652</td>\n",
       "      <td>29.1250</td>\n",
       "      <td>NaN</td>\n",
       "      <td>Q</td>\n",
       "    </tr>\n",
       "    <tr>\n",
       "      <th>886</th>\n",
       "      <td>887</td>\n",
       "      <td>0</td>\n",
       "      <td>2</td>\n",
       "      <td>Montvila, Rev. Juozas</td>\n",
       "      <td>male</td>\n",
       "      <td>27.000000</td>\n",
       "      <td>0</td>\n",
       "      <td>0</td>\n",
       "      <td>211536</td>\n",
       "      <td>13.0000</td>\n",
       "      <td>NaN</td>\n",
       "      <td>S</td>\n",
       "    </tr>\n",
       "    <tr>\n",
       "      <th>888</th>\n",
       "      <td>889</td>\n",
       "      <td>0</td>\n",
       "      <td>3</td>\n",
       "      <td>Johnston, Miss. Catherine Helen \"Carrie\"</td>\n",
       "      <td>female</td>\n",
       "      <td>27.915709</td>\n",
       "      <td>1</td>\n",
       "      <td>2</td>\n",
       "      <td>W./C. 6607</td>\n",
       "      <td>23.4500</td>\n",
       "      <td>NaN</td>\n",
       "      <td>S</td>\n",
       "    </tr>\n",
       "    <tr>\n",
       "      <th>890</th>\n",
       "      <td>891</td>\n",
       "      <td>0</td>\n",
       "      <td>3</td>\n",
       "      <td>Dooley, Mr. Patrick</td>\n",
       "      <td>male</td>\n",
       "      <td>32.000000</td>\n",
       "      <td>0</td>\n",
       "      <td>0</td>\n",
       "      <td>370376</td>\n",
       "      <td>7.7500</td>\n",
       "      <td>NaN</td>\n",
       "      <td>Q</td>\n",
       "    </tr>\n",
       "  </tbody>\n",
       "</table>\n",
       "<p>687 rows × 12 columns</p>\n",
       "</div>"
      ],
      "text/plain": [
       "     PassengerId  Survived  Pclass                                      Name  \\\n",
       "0              1         0       3                   Braund, Mr. Owen Harris   \n",
       "2              3         1       3                    Heikkinen, Miss. Laina   \n",
       "4              5         0       3                  Allen, Mr. William Henry   \n",
       "5              6         0       3                          Moran, Mr. James   \n",
       "7              8         0       3            Palsson, Master. Gosta Leonard   \n",
       "..           ...       ...     ...                                       ...   \n",
       "884          885         0       3                    Sutehall, Mr. Henry Jr   \n",
       "885          886         0       3      Rice, Mrs. William (Margaret Norton)   \n",
       "886          887         0       2                     Montvila, Rev. Juozas   \n",
       "888          889         0       3  Johnston, Miss. Catherine Helen \"Carrie\"   \n",
       "890          891         0       3                       Dooley, Mr. Patrick   \n",
       "\n",
       "        Sex        Age  SibSp  Parch            Ticket     Fare Cabin Embarked  \n",
       "0      male  22.000000      1      0         A/5 21171   7.2500   NaN        S  \n",
       "2    female  26.000000      0      0  STON/O2. 3101282   7.9250   NaN        S  \n",
       "4      male  35.000000      0      0            373450   8.0500   NaN        S  \n",
       "5      male  30.726645      0      0            330877   8.4583   NaN        Q  \n",
       "7      male   2.000000      3      1            349909  21.0750   NaN        S  \n",
       "..      ...        ...    ...    ...               ...      ...   ...      ...  \n",
       "884    male  25.000000      0      0   SOTON/OQ 392076   7.0500   NaN        S  \n",
       "885  female  39.000000      0      5            382652  29.1250   NaN        Q  \n",
       "886    male  27.000000      0      0            211536  13.0000   NaN        S  \n",
       "888  female  27.915709      1      2        W./C. 6607  23.4500   NaN        S  \n",
       "890    male  32.000000      0      0            370376   7.7500   NaN        Q  \n",
       "\n",
       "[687 rows x 12 columns]"
      ]
     },
     "execution_count": 17,
     "metadata": {},
     "output_type": "execute_result"
    }
   ],
   "source": [
    "train_data.loc[\n",
    "    pd.isna(train_data[\"Cabin\"])\n",
    "]"
   ]
  },
  {
   "cell_type": "code",
   "execution_count": 18,
   "metadata": {},
   "outputs": [
    {
     "data": {
      "text/plain": [
       "G6             4\n",
       "B96 B98        4\n",
       "C23 C25 C27    4\n",
       "F33            3\n",
       "F2             3\n",
       "              ..\n",
       "A26            1\n",
       "A34            1\n",
       "F G63          1\n",
       "E40            1\n",
       "C85            1\n",
       "Name: Cabin, Length: 147, dtype: int64"
      ]
     },
     "execution_count": 18,
     "metadata": {},
     "output_type": "execute_result"
    }
   ],
   "source": [
    "# Take a look at the unique cabin values\n",
    "train_data[\"Cabin\"].value_counts()"
   ]
  },
  {
   "cell_type": "markdown",
   "metadata": {},
   "source": [
    "This doesn't seem to help us. For now, we'll leave the Cabin feature as it is, and just leave it unused in the classification."
   ]
  },
  {
   "cell_type": "markdown",
   "metadata": {},
   "source": [
    "<a id=\"further_data_cleaning_test\"></a>\n",
    "## Test Data"
   ]
  },
  {
   "cell_type": "markdown",
   "metadata": {},
   "source": [
    "<a id=\"further_data_cleaning_test_age\"></a>\n",
    "### Age\n",
    "Apply the `impute_age` function to the test data, using the same mean values for each sex we obtained from the training data."
   ]
  },
  {
   "cell_type": "code",
   "execution_count": 19,
   "metadata": {},
   "outputs": [
    {
     "name": "stdout",
     "output_type": "stream",
     "text": [
      "<class 'pandas.core.frame.DataFrame'>\n",
      "RangeIndex: 418 entries, 0 to 417\n",
      "Data columns (total 11 columns):\n",
      " #   Column       Non-Null Count  Dtype  \n",
      "---  ------       --------------  -----  \n",
      " 0   PassengerId  418 non-null    int64  \n",
      " 1   Pclass       418 non-null    int64  \n",
      " 2   Name         418 non-null    object \n",
      " 3   Sex          418 non-null    object \n",
      " 4   Age          418 non-null    float64\n",
      " 5   SibSp        418 non-null    int64  \n",
      " 6   Parch        418 non-null    int64  \n",
      " 7   Ticket       418 non-null    object \n",
      " 8   Fare         417 non-null    float64\n",
      " 9   Cabin        91 non-null     object \n",
      " 10  Embarked     418 non-null    object \n",
      "dtypes: float64(2), int64(4), object(5)\n",
      "memory usage: 36.0+ KB\n"
     ]
    }
   ],
   "source": [
    "# Impute the age.\n",
    "impute_age(test_data, age_by_gender)\n",
    "test_data.info()"
   ]
  },
  {
   "cell_type": "markdown",
   "metadata": {},
   "source": [
    "Good, so we aren't missing any Age values in the test data. Now le'ts address the missing Fare value."
   ]
  },
  {
   "cell_type": "markdown",
   "metadata": {},
   "source": [
    "<a id=\"further_data_cleaning_test_fare\"></a>\n",
    "### Fare\n",
    "Impute the missing fare in the test data, using the mean fare by class in the training data. There are other ways to impute the missing fare, but let's start with this simple imputation."
   ]
  },
  {
   "cell_type": "code",
   "execution_count": 20,
   "metadata": {},
   "outputs": [
    {
     "data": {
      "text/html": [
       "<div>\n",
       "<style scoped>\n",
       "    .dataframe tbody tr th:only-of-type {\n",
       "        vertical-align: middle;\n",
       "    }\n",
       "\n",
       "    .dataframe tbody tr th {\n",
       "        vertical-align: top;\n",
       "    }\n",
       "\n",
       "    .dataframe thead th {\n",
       "        text-align: right;\n",
       "    }\n",
       "</style>\n",
       "<table border=\"1\" class=\"dataframe\">\n",
       "  <thead>\n",
       "    <tr style=\"text-align: right;\">\n",
       "      <th></th>\n",
       "      <th>Fare</th>\n",
       "    </tr>\n",
       "    <tr>\n",
       "      <th>Pclass</th>\n",
       "      <th></th>\n",
       "    </tr>\n",
       "  </thead>\n",
       "  <tbody>\n",
       "    <tr>\n",
       "      <th>1</th>\n",
       "      <td>84.154687</td>\n",
       "    </tr>\n",
       "    <tr>\n",
       "      <th>2</th>\n",
       "      <td>20.662183</td>\n",
       "    </tr>\n",
       "    <tr>\n",
       "      <th>3</th>\n",
       "      <td>13.675550</td>\n",
       "    </tr>\n",
       "  </tbody>\n",
       "</table>\n",
       "</div>"
      ],
      "text/plain": [
       "             Fare\n",
       "Pclass           \n",
       "1       84.154687\n",
       "2       20.662183\n",
       "3       13.675550"
      ]
     },
     "execution_count": 20,
     "metadata": {},
     "output_type": "execute_result"
    }
   ],
   "source": [
    "# Get the mean age of men and women\n",
    "fare_by_class = train_data[\n",
    "    [\n",
    "        \"Pclass\",\n",
    "        \"Fare\"\n",
    "    ]\n",
    "].groupby(\"Pclass\").agg(\n",
    "    {\n",
    "        \"Fare\": \"mean\"\n",
    "    }\n",
    ")\n",
    "fare_by_class"
   ]
  },
  {
   "cell_type": "markdown",
   "metadata": {},
   "source": [
    "Sanity check: First class tickets, on average, cost a lot more than second class and third class tickets."
   ]
  },
  {
   "cell_type": "code",
   "execution_count": 21,
   "metadata": {},
   "outputs": [
    {
     "name": "stdout",
     "output_type": "stream",
     "text": [
      "<class 'pandas.core.frame.DataFrame'>\n",
      "RangeIndex: 418 entries, 0 to 417\n",
      "Data columns (total 11 columns):\n",
      " #   Column       Non-Null Count  Dtype  \n",
      "---  ------       --------------  -----  \n",
      " 0   PassengerId  418 non-null    int64  \n",
      " 1   Pclass       418 non-null    int64  \n",
      " 2   Name         418 non-null    object \n",
      " 3   Sex          418 non-null    object \n",
      " 4   Age          418 non-null    float64\n",
      " 5   SibSp        418 non-null    int64  \n",
      " 6   Parch        418 non-null    int64  \n",
      " 7   Ticket       418 non-null    object \n",
      " 8   Fare         418 non-null    float64\n",
      " 9   Cabin        91 non-null     object \n",
      " 10  Embarked     418 non-null    object \n",
      "dtypes: float64(2), int64(4), object(5)\n",
      "memory usage: 36.0+ KB\n"
     ]
    }
   ],
   "source": [
    "# Impute the missing fares\n",
    "def impute_fare(data, mean_fare_by_class):\n",
    "    for ticket_class in [1, 2, 3]:\n",
    "        data.loc[\n",
    "            (data[\"Pclass\"] == ticket_class)\n",
    "            & (pd.isna(data[\"Fare\"])),\n",
    "            \"Fare\"\n",
    "        ] = mean_fare_by_class.loc[\n",
    "            ticket_class,\n",
    "            \"Fare\"\n",
    "        ]\n",
    "\n",
    "\n",
    "impute_fare(test_data, fare_by_class)\n",
    "test_data.info()"
   ]
  },
  {
   "cell_type": "markdown",
   "metadata": {},
   "source": [
    "<a id=\"further_data_analysis\"></a>\n",
    "# Further Data Analysis\n",
    "Let's have some fun and make some charts."
   ]
  },
  {
   "cell_type": "markdown",
   "metadata": {},
   "source": [
    "<a id=\"further_data_analysis_useful_functions\"></a>\n",
    "## Useful Functions"
   ]
  },
  {
   "cell_type": "code",
   "execution_count": 22,
   "metadata": {},
   "outputs": [],
   "source": [
    "# Define a plot histogram function\n",
    "def plot_histogram(\n",
    "    axis, # matplotlib axis object\n",
    "    data_frame, # data frame of which we want a histogram of one columns\n",
    "    data_column_string, # the string that identifies the column in data_frame we want to visualize\n",
    "    bins_list, # a list of the bins we want to use. Make sure this is a list.\n",
    "    colour_string, # A colour, as a hex code (as a string), for the colour of the bars in the histogram\n",
    "    xlabel_string, # String of the x-axis label\n",
    "    ylabel_string, # String of the y-axis label\n",
    "    title_string, # String of the title\n",
    "    label_size_num=12, # Size of the x- and y-labels\n",
    "    title_size_num=14, # Size of the title\n",
    "    tick_label_size_num=11, # Size of the x- and y-tick labels\n",
    "    padding_num=20, # Padding of the titles and labels\n",
    "    edge_colour_string=\"w\", # Colour, as a hex code (as a string), for the edge colour of the bars.\n",
    "    linewidth_num=1, # Size of the edges outlining the bars, in points\n",
    "    alignment_string=\"mid\", # With \"mid\" bars are centred between bin edges. Try \"left\" or \"right\"\n",
    "    density_flag=False # Plot a probability density function?\n",
    "):\n",
    "    [bins, values, patches] = axis.hist(\n",
    "        x=data_frame[\n",
    "            data_column_string\n",
    "        ],\n",
    "        bins=bins_list,\n",
    "        color=colour_string,\n",
    "        edgecolor=edge_colour_string,\n",
    "        linewidth=linewidth_num,\n",
    "        density=density_flag,\n",
    "        align=alignment_string\n",
    "    )\n",
    "    \n",
    "    # Set x- and y-labels and title\n",
    "    axis.set_xlabel(\n",
    "        xlabel_string,\n",
    "        size=label_size_num,\n",
    "        labelpad=padding_num\n",
    "    )\n",
    "    axis.set_ylabel(\n",
    "        ylabel_string,\n",
    "        size=label_size_num,\n",
    "        labelpad=padding_num\n",
    "    )\n",
    "    axis.set_title(\n",
    "        title_string,\n",
    "        size=title_size_num,\n",
    "        pad=padding_num\n",
    "    )\n",
    "    \n",
    "    axis.spines[\"top\"].set_visible(False)\n",
    "    axis.spines[\"right\"].set_visible(False)\n",
    "    \n",
    "    # Set x- and y-ticklabel sizes\n",
    "    for x in axis.get_xticklabels():\n",
    "        x.set_size(tick_label_size_num)\n",
    "\n",
    "    for y in axis.get_yticklabels():\n",
    "        y.set_size(tick_label_size_num)\n",
    "        \n",
    "    return [bins, values, patches]\n"
   ]
  },
  {
   "cell_type": "markdown",
   "metadata": {},
   "source": [
    "<a id=\"further_data_analysis_age\"></a>\n",
    "## Age\n",
    "Age is a continuous variable, so let's make a histogram of it."
   ]
  },
  {
   "cell_type": "code",
   "execution_count": 23,
   "metadata": {},
   "outputs": [
    {
     "data": {
      "text/plain": [
       "count    891.000000\n",
       "mean      29.736034\n",
       "std       13.014897\n",
       "min        0.420000\n",
       "25%       22.000000\n",
       "50%       30.000000\n",
       "75%       35.000000\n",
       "max       80.000000\n",
       "Name: Age, dtype: float64"
      ]
     },
     "execution_count": 23,
     "metadata": {},
     "output_type": "execute_result"
    }
   ],
   "source": [
    "# Get the minimum and maximum of the training data\n",
    "train_data[\"Age\"].describe()"
   ]
  },
  {
   "cell_type": "code",
   "execution_count": 60,
   "metadata": {
    "scrolled": true
   },
   "outputs": [
    {
     "data": {
      "image/png": "[encoded data removed]",
      "text/plain": [
       "<Figure size 216x216 with 1 Axes>"
      ]
     },
     "metadata": {
      "needs_background": "light"
     },
     "output_type": "display_data"
    }
   ],
   "source": [
    "fig = plt.figure(\n",
    "    figsize=(\n",
    "        3, #FIG_WIDTH_INCHES,\n",
    "        3, #FIG_HEIGHT_INCHES\n",
    "    )\n",
    ")\n",
    "ax = fig.add_subplot(111)\n",
    "plot_histogram(\n",
    "    axis=ax,\n",
    "    data_frame=train_data,\n",
    "    data_column_string=\"Age\",\n",
    "    bins_list=20,\n",
    "    colour_string=TITANIC_COLOUR,\n",
    "    xlabel_string=\"Age of Passengers\",\n",
    "    ylabel_string=\"Count\",\n",
    "    title_string=\"Distribution of Passenger Ages\\nin the Titanic training data set\",\n",
    "    linewidth_num=0.1,\n",
    "    padding_num=5\n",
    ")\n",
    "plt.tight_layout()\n",
    "plt.savefig(\n",
    "    \"passenger_age_histogram.png\",\n",
    "    bbox_inches='tight',\n",
    "    transparent=True,\n",
    "    dpi=400,\n",
    "    pad_inches=0.,\n",
    ")"
   ]
  },
  {
   "cell_type": "markdown",
   "metadata": {},
   "source": [
    "There are some children (ages zero to ten), lots of people aged about 18 to 40, and some people aged 40 and above. We remark a spike at about 27 and 30. Plot the histogram for age, but this time, for passengers who died and who didn't."
   ]
  },
  {
   "cell_type": "code",
   "execution_count": 61,
   "metadata": {},
   "outputs": [
    {
     "data": {
      "image/png": "[encoded data removed]",
      "text/plain": [
       "<Figure size 432x216 with 2 Axes>"
      ]
     },
     "metadata": {
      "needs_background": "light"
     },
     "output_type": "display_data"
    }
   ],
   "source": [
    "fig, (ax1, ax2) = plt.subplots(1,2)\n",
    "fig.set_size_inches(\n",
    "    3 * 2, # FIG_WIDTH_INCHES * 2, \n",
    "    3 #FIG_HEIGHT_INCHES\n",
    ")\n",
    "plot_histogram(\n",
    "    axis=ax1,\n",
    "    data_frame=train_data[\n",
    "        train_data[\"Survived\"]==1\n",
    "    ],\n",
    "    data_column_string=\"Age\",\n",
    "    bins_list=20,\n",
    "    colour_string=SURVIVED_COLOUR,\n",
    "    xlabel_string=\"Age of Passengers\",\n",
    "    ylabel_string=\"Probability of Surviving\",\n",
    "    title_string=\"Survived,\\nPassenger Age Distribution\",\n",
    "    linewidth_num=0.1,\n",
    "    density_flag=True,\n",
    "    padding\n",
    ")\n",
    "\n",
    "plot_histogram(\n",
    "    axis=ax2,\n",
    "    data_frame=train_data[\n",
    "        train_data[\"Survived\"]==0\n",
    "    ],\n",
    "    data_column_string=\"Age\",\n",
    "    bins_list=20,\n",
    "    colour_string=DID_NOT_SURVIVE_COLOUR,\n",
    "    xlabel_string=\"Age of Passengers\",\n",
    "    ylabel_string=\"Probability of Not Surviving\",\n",
    "    title_string=\"Did Not Survive,\\nPassenger Age Distribution\",\n",
    "    linewidth_num=0.1,\n",
    "    density_flag=True,\n",
    "    padding_num=5\n",
    ")\n",
    "\n",
    "# Adjust the x-limits on the first plot to match that of the second\n",
    "ax1.set_ylim(\n",
    "    ax2.get_ylim()\n",
    ")\n",
    "plt.tight_layout()\n",
    "plt.savefig(\n",
    "    \"passenger_age_survived_did_not_survive.png\",\n",
    "    bbox_inches='tight',\n",
    "    transparent=True,\n",
    "    dpi=400,\n",
    "    pad_inches=0.,\n",
    ")"
   ]
  },
  {
   "cell_type": "markdown",
   "metadata": {},
   "source": [
    "We see a lot of 30 year olds perished, as did a lot of people aged about 20-30. We see a lot of 25 and 30 year olds also survived. Among the survivors, children (age 0 to 10) represent a larger fraction of the population that survived as opposed to the population that perished. This makes sense, as we'd expect people to try to save children. We also remark that more people aged (approximately) 23 to 26 survived, and a lot of people aged 30 to 33 perished. This sort of hints that more women (mean aged 28) survived than did men (mean aged 31).\n",
    "\n",
    "This suggests that age is a determinant of a passenger's survival."
   ]
  },
  {
   "cell_type": "markdown",
   "metadata": {},
   "source": [
    "<a id=\"further_data_analysis_pclass\"></a>\n",
    "## Passenger Class"
   ]
  },
  {
   "cell_type": "code",
   "execution_count": 26,
   "metadata": {},
   "outputs": [
    {
     "data": {
      "image/png": "[encoded data removed]",
      "text/plain": [
       "<Figure size 360x360 with 1 Axes>"
      ]
     },
     "metadata": {
      "needs_background": "light"
     },
     "output_type": "display_data"
    }
   ],
   "source": [
    "# Plot the distribution of passenger class\n",
    "fig = plt.figure(\n",
    "    figsize=(\n",
    "        FIG_WIDTH_INCHES,\n",
    "        FIG_HEIGHT_INCHES\n",
    "    )\n",
    ")\n",
    "ax = fig.add_subplot(111)\n",
    "plot_histogram(\n",
    "    axis=ax,\n",
    "    data_frame=train_data,\n",
    "    data_column_string=\"Pclass\",\n",
    "    bins_list=[1, 2, 3, 4],\n",
    "    colour_string=TITANIC_COLOUR,\n",
    "    xlabel_string=\"Passengers's Ticket Class\",\n",
    "    ylabel_string=\"Count\",\n",
    "    title_string=\"Distribution of Passenger Ticket Classes\\nin the Titanic training data set\",\n",
    "    linewidth_num=1,\n",
    "    alignment_string=\"left\"\n",
    ")\n",
    "ax.set_xticks([1, 2, 3])\n",
    "plt.tight_layout()\n",
    "plt.show()"
   ]
  },
  {
   "cell_type": "markdown",
   "metadata": {},
   "source": [
    "There were significantly more third class passengers than first or second class passengers. Let's take a look at the distribution of passenger class among the population that survived, and that, which didn't."
   ]
  },
  {
   "cell_type": "code",
   "execution_count": 27,
   "metadata": {},
   "outputs": [
    {
     "data": {
      "image/png": "[encoded data removed]",
      "text/plain": [
       "<Figure size 720x360 with 2 Axes>"
      ]
     },
     "metadata": {
      "needs_background": "light"
     },
     "output_type": "display_data"
    }
   ],
   "source": [
    "fig, (ax1, ax2) = plt.subplots(1,2)\n",
    "fig.set_size_inches(\n",
    "    FIG_WIDTH_INCHES * 2, \n",
    "    FIG_HEIGHT_INCHES\n",
    ")\n",
    "# Define a bin list for classes 1, 2, 3\n",
    "bin_list = [1, 2, 3, 4]\n",
    "plot_histogram(\n",
    "    axis=ax1,\n",
    "    data_frame=train_data[\n",
    "        train_data[\"Survived\"]==1\n",
    "    ],\n",
    "    data_column_string=\"Pclass\",\n",
    "    bins_list=[1, 2, 3, 4],\n",
    "    colour_string=SURVIVED_COLOUR,\n",
    "    xlabel_string=\"Passengers's Ticket Class\",\n",
    "    ylabel_string=\"Count That Survived\",\n",
    "    title_string=\"Survived,\\nPassenger Ticket Class Distribution\",\n",
    "    linewidth_num=1,\n",
    "    alignment_string=\"left\"\n",
    ")\n",
    "\n",
    "plot_histogram(\n",
    "    axis=ax2,\n",
    "    data_frame=train_data[\n",
    "        train_data[\"Survived\"]==0\n",
    "    ],\n",
    "    data_column_string=\"Pclass\",\n",
    "    bins_list=[1, 2, 3, 4],\n",
    "    colour_string=DID_NOT_SURVIVE_COLOUR,\n",
    "    xlabel_string=\"Passengers's Ticket Class\",\n",
    "    ylabel_string=\"Count That Did Not Survive\",\n",
    "    title_string=\"Did Not Survive,\\nPassenger Ticket Class Distribution\",\n",
    "    linewidth_num=1,\n",
    "    alignment_string=\"left\"\n",
    ")\n",
    "\n",
    "# Adjust the x-ticks and x-ticklabels to have only passenger class 1, 2, 3\n",
    "ax1.set_xticks(bin_list)\n",
    "ax2.set_xticks(bin_list)\n",
    "ax1.set_xticklabels([1, 2, 3, None])\n",
    "ax2.set_xticklabels([1, 2, 3, None])\n",
    "plt.tight_layout()\n",
    "plt.show()"
   ]
  },
  {
   "cell_type": "markdown",
   "metadata": {},
   "source": [
    "Clearly, ticket class is a determinant of surviving. Being in third class means you were much more likely to perish than being in first or second class. Being in first class meant you were most likely to survive.\n",
    "\n",
    "Passenger class is a strong determinant of passenger survival."
   ]
  },
  {
   "cell_type": "markdown",
   "metadata": {},
   "source": [
    "<a id=\"further_data_analysis_sibsp\"></a>\n",
    "## Siblings and Spouses\n",
    "The feature SibSp represents the number of siblings or spouses aboard the Titanic."
   ]
  },
  {
   "cell_type": "code",
   "execution_count": 28,
   "metadata": {},
   "outputs": [
    {
     "data": {
      "text/plain": [
       "0    608\n",
       "1    209\n",
       "2     28\n",
       "4     18\n",
       "3     16\n",
       "8      7\n",
       "5      5\n",
       "Name: SibSp, dtype: int64"
      ]
     },
     "execution_count": 28,
     "metadata": {},
     "output_type": "execute_result"
    }
   ],
   "source": [
    "train_data[\"SibSp\"].value_counts()"
   ]
  },
  {
   "cell_type": "code",
   "execution_count": 29,
   "metadata": {},
   "outputs": [
    {
     "data": {
      "image/png": "[encoded data removed]",
      "text/plain": [
       "<Figure size 360x360 with 1 Axes>"
      ]
     },
     "metadata": {
      "needs_background": "light"
     },
     "output_type": "display_data"
    }
   ],
   "source": [
    "# Plot the distribution of SibSp\n",
    "fig = plt.figure(\n",
    "    figsize=(\n",
    "        FIG_WIDTH_INCHES,\n",
    "        FIG_HEIGHT_INCHES\n",
    "    )\n",
    ")\n",
    "ax = fig.add_subplot(111)\n",
    "plot_histogram(\n",
    "    axis=ax,\n",
    "    data_frame=train_data,\n",
    "    data_column_string=\"SibSp\",\n",
    "    bins_list=list(np.arange(10)),\n",
    "    colour_string=TITANIC_COLOUR,\n",
    "    xlabel_string=\"Number of Siblings/Spouses Aboard the Titanic\",\n",
    "    ylabel_string=\"Count\",\n",
    "    title_string=\"Distribution of Number of Siblings/Spouses\\nin the Titanic training data set\",\n",
    "    linewidth_num=1,\n",
    "    alignment_string=\"left\"\n",
    ")\n",
    "plt.tight_layout()\n",
    "plt.show()"
   ]
  },
  {
   "cell_type": "markdown",
   "metadata": {},
   "source": [
    "We see that the vast majority of passengers aboard the Titanic were single. About 200 people were travelling with one companion, and much fewer travelled with more than one companion. Let's examine the number of siblings and spouses among those who survived and those who perished."
   ]
  },
  {
   "cell_type": "code",
   "execution_count": 30,
   "metadata": {},
   "outputs": [
    {
     "data": {
      "text/plain": [
       "0    398\n",
       "1     97\n",
       "2     15\n",
       "4     15\n",
       "3     12\n",
       "8      7\n",
       "5      5\n",
       "Name: SibSp, dtype: int64"
      ]
     },
     "execution_count": 30,
     "metadata": {},
     "output_type": "execute_result"
    }
   ],
   "source": [
    "train_data.loc[\n",
    "    (train_data[\"Survived\"]==0),\n",
    "    \"SibSp\"\n",
    "].value_counts()"
   ]
  },
  {
   "cell_type": "code",
   "execution_count": 31,
   "metadata": {},
   "outputs": [
    {
     "data": {
      "image/png": "[encoded data removed]",
      "text/plain": [
       "<Figure size 720x360 with 2 Axes>"
      ]
     },
     "metadata": {
      "needs_background": "light"
     },
     "output_type": "display_data"
    }
   ],
   "source": [
    "fig, (ax1, ax2) = plt.subplots(1,2)\n",
    "fig.set_size_inches(\n",
    "    FIG_WIDTH_INCHES * 2, \n",
    "    FIG_HEIGHT_INCHES\n",
    ")\n",
    "\n",
    "bin_list = list(np.arange(10))\n",
    "plot_histogram(\n",
    "    axis=ax1,\n",
    "    data_frame=train_data[\n",
    "        train_data[\"Survived\"]==1\n",
    "    ],\n",
    "    data_column_string=\"SibSp\",\n",
    "    bins_list=bin_list,\n",
    "    colour_string=SURVIVED_COLOUR,\n",
    "    xlabel_string=\"Number of Siblings/Spouses\",\n",
    "    ylabel_string=\"Count That Survived\",\n",
    "    title_string=\"Survived,\\nNumber of Siblings/Spouses Distribution\",\n",
    "    linewidth_num=1,\n",
    ")\n",
    "\n",
    "plot_histogram(\n",
    "    axis=ax2,\n",
    "    data_frame=train_data[\n",
    "        train_data[\"Survived\"]==0\n",
    "    ],\n",
    "    data_column_string=\"SibSp\",\n",
    "    bins_list=bin_list,\n",
    "    colour_string=DID_NOT_SURVIVE_COLOUR,\n",
    "    xlabel_string=\"Number of Siblings/Spouses\",\n",
    "    ylabel_string=\"Count That Did Not Survive\",\n",
    "    title_string=\"Did Not Survive,\\nNumber of Siblings/Spouses Distribution\",\n",
    "    linewidth_num=1,\n",
    ")\n",
    "\n",
    "# Adjust the x-limits on the first plot to match that of the second\n",
    "ax1.set_ylim(\n",
    "    ax2.get_ylim()\n",
    ")\n",
    "plt.tight_layout()\n",
    "plt.show()"
   ]
  },
  {
   "cell_type": "markdown",
   "metadata": {},
   "source": [
    "The distributions of the number of siblings/spouses for both the populations that survived and didn't survive seem similar. More single passengers survived thatn passengers travelliing with one or more companion. Travelling with more spouses/siblings correlates with not surviving.\n",
    "\n",
    "The number of siblings/spouses is not as strong a determinant of survival as, say, ticket class."
   ]
  },
  {
   "cell_type": "markdown",
   "metadata": {},
   "source": [
    "<a id=\"further_data_analysis_sex\"></a>\n",
    "## Sex"
   ]
  },
  {
   "cell_type": "code",
   "execution_count": 32,
   "metadata": {},
   "outputs": [
    {
     "data": {
      "text/plain": [
       "male      577\n",
       "female    314\n",
       "Name: Sex, dtype: int64"
      ]
     },
     "execution_count": 32,
     "metadata": {},
     "output_type": "execute_result"
    }
   ],
   "source": [
    "# (No need to visualize, as this is a binary variable.)\n",
    "# Get a sense of how many men/women were aboard.\n",
    "train_data[\"Sex\"].value_counts()"
   ]
  },
  {
   "cell_type": "code",
   "execution_count": 33,
   "metadata": {},
   "outputs": [
    {
     "data": {
      "text/plain": [
       "female    233\n",
       "male      109\n",
       "Name: Sex, dtype: int64"
      ]
     },
     "execution_count": 33,
     "metadata": {},
     "output_type": "execute_result"
    }
   ],
   "source": [
    "# How many men/women survived?\n",
    "train_data.loc[\n",
    "    (train_data[\"Survived\"]==1),\n",
    "    \"Sex\"\n",
    "].value_counts()"
   ]
  },
  {
   "cell_type": "code",
   "execution_count": 34,
   "metadata": {},
   "outputs": [
    {
     "data": {
      "text/plain": [
       "male      468\n",
       "female     81\n",
       "Name: Sex, dtype: int64"
      ]
     },
     "execution_count": 34,
     "metadata": {},
     "output_type": "execute_result"
    }
   ],
   "source": [
    "# How many men/women perished?\n",
    "train_data.loc[\n",
    "    (train_data[\"Survived\"]==0),\n",
    "    \"Sex\"\n",
    "].value_counts()"
   ]
  },
  {
   "cell_type": "markdown",
   "metadata": {},
   "source": [
    "65% of passengers were male, and 35% were female. Of those that survived, 68% were female, while of those that perished, 85% were male.\n",
    "\n",
    "Sex is a strong determinant of survival aboard the Titanic."
   ]
  },
  {
   "cell_type": "markdown",
   "metadata": {},
   "source": [
    "<a id=\"further_data_analysis_fare\"></a>\n",
    "## Fare"
   ]
  },
  {
   "cell_type": "code",
   "execution_count": 35,
   "metadata": {},
   "outputs": [
    {
     "data": {
      "image/png": "[encoded data removed]",
      "text/plain": [
       "<Figure size 360x360 with 1 Axes>"
      ]
     },
     "metadata": {
      "needs_background": "light"
     },
     "output_type": "display_data"
    }
   ],
   "source": [
    "fig = plt.figure(\n",
    "    figsize=(\n",
    "        FIG_WIDTH_INCHES,\n",
    "        FIG_HEIGHT_INCHES\n",
    "    )\n",
    ")\n",
    "ax = fig.add_subplot(111)\n",
    "plot_histogram(\n",
    "    axis=ax,\n",
    "    data_frame=train_data,\n",
    "    data_column_string=\"Fare\",\n",
    "    bins_list=20,\n",
    "    colour_string=TITANIC_COLOUR,\n",
    "    xlabel_string=\"Fare Paid\",\n",
    "    ylabel_string=\"Count\",\n",
    "    title_string=\"Distribution of Fare Paid\\nin the Titanic training data set\",\n",
    "    linewidth_num=0.1,\n",
    ")\n",
    "plt.tight_layout()\n",
    "plt.show()"
   ]
  },
  {
   "cell_type": "markdown",
   "metadata": {},
   "source": [
    "This suggests that most passengers paid less than (about) 25 pounds for their ticket. Let's examine the fare paid by the population that survived and the population that didn't survive."
   ]
  },
  {
   "cell_type": "code",
   "execution_count": 36,
   "metadata": {},
   "outputs": [
    {
     "data": {
      "image/png": "[encoded data removed]",
      "text/plain": [
       "<Figure size 720x360 with 2 Axes>"
      ]
     },
     "metadata": {
      "needs_background": "light"
     },
     "output_type": "display_data"
    }
   ],
   "source": [
    "fig, (ax1, ax2) = plt.subplots(1,2)\n",
    "fig.set_size_inches(\n",
    "    FIG_WIDTH_INCHES * 2, \n",
    "    FIG_HEIGHT_INCHES\n",
    ")\n",
    "\n",
    "bin_list = 20\n",
    "plot_histogram(\n",
    "    axis=ax1,\n",
    "    data_frame=train_data[\n",
    "        train_data[\"Survived\"]==1\n",
    "    ],\n",
    "    data_column_string=\"Fare\",\n",
    "    bins_list=bin_list,\n",
    "    colour_string=SURVIVED_COLOUR,\n",
    "    xlabel_string=\"Fare Paid\",\n",
    "    ylabel_string=\"Count That Survived\",\n",
    "    title_string=\"Survived,\\nDistribution of Fares Paid\",\n",
    "    linewidth_num=1,\n",
    ")\n",
    "\n",
    "plot_histogram(\n",
    "    axis=ax2,\n",
    "    data_frame=train_data[\n",
    "        train_data[\"Survived\"]==0\n",
    "    ],\n",
    "    data_column_string=\"Fare\",\n",
    "    bins_list=bin_list,\n",
    "    colour_string=DID_NOT_SURVIVE_COLOUR,\n",
    "    xlabel_string=\"Fare Paid\",\n",
    "    ylabel_string=\"Count That Did Not Survive\",\n",
    "    title_string=\"Did Not Survive,\\nDistribution of Fares Paid\",\n",
    "    linewidth_num=1,\n",
    ")\n",
    "\n",
    "# Adjust the x-limits on the first plot to match that of the second\n",
    "ax1.set_ylim(\n",
    "    ax2.get_ylim()\n",
    ")\n",
    "plt.tight_layout()\n",
    "plt.show()"
   ]
  },
  {
   "cell_type": "markdown",
   "metadata": {},
   "source": [
    "Of those who paid 25 pounds or less, about 160 survived, while approximately 400 perished. In contast, of those that paid 270 pounds or more survived. However, there were still some who paid between 100 and 250 pounds that perished.\n",
    "\n",
    "This suggests that the fare paid is a determinant of survival, but not as strong a determinant as passenger class."
   ]
  },
  {
   "cell_type": "markdown",
   "metadata": {},
   "source": [
    "<a id=\"further_data_analysis_parch\"></a>\n",
    "## Parents and Children"
   ]
  },
  {
   "cell_type": "code",
   "execution_count": 37,
   "metadata": {},
   "outputs": [
    {
     "data": {
      "text/plain": [
       "count    891.000000\n",
       "mean       0.381594\n",
       "std        0.806057\n",
       "min        0.000000\n",
       "25%        0.000000\n",
       "50%        0.000000\n",
       "75%        0.000000\n",
       "max        6.000000\n",
       "Name: Parch, dtype: float64"
      ]
     },
     "execution_count": 37,
     "metadata": {},
     "output_type": "execute_result"
    }
   ],
   "source": [
    "train_data[\"Parch\"].describe()"
   ]
  },
  {
   "cell_type": "code",
   "execution_count": 38,
   "metadata": {},
   "outputs": [
    {
     "data": {
      "image/png": "[encoded data removed]",
      "text/plain": [
       "<Figure size 360x360 with 1 Axes>"
      ]
     },
     "metadata": {
      "needs_background": "light"
     },
     "output_type": "display_data"
    }
   ],
   "source": [
    "# Plot a histogram of the number of parents/children abord\n",
    "fig = plt.figure(\n",
    "    figsize=(\n",
    "        FIG_WIDTH_INCHES,\n",
    "        FIG_HEIGHT_INCHES\n",
    "    )\n",
    ")\n",
    "ax = fig.add_subplot(111)\n",
    "plot_histogram(\n",
    "    axis=ax,\n",
    "    data_frame=train_data,\n",
    "    data_column_string=\"Parch\",\n",
    "    bins_list=list(np.arange(7)),\n",
    "    colour_string=TITANIC_COLOUR,\n",
    "    xlabel_string=\"Number of Parents/Children Aboard\",\n",
    "    ylabel_string=\"Count\",\n",
    "    title_string=\"Distribution of Number of Parents/Children\\nin the Titanic training data set\",\n",
    "    linewidth_num=1,\n",
    "    alignment_string=\"left\"\n",
    ")\n",
    "plt.tight_layout()\n",
    "plt.show()"
   ]
  },
  {
   "cell_type": "markdown",
   "metadata": {},
   "source": [
    "The vast majority of people abord the Titanic did not have any parents or children. About 200 people had one or two parents/children aboard. Let's look at the number of parents/children in the populations that survived/didn't survive."
   ]
  },
  {
   "cell_type": "code",
   "execution_count": 39,
   "metadata": {},
   "outputs": [
    {
     "data": {
      "image/png": "[encoded data removed]",
      "text/plain": [
       "<Figure size 720x360 with 2 Axes>"
      ]
     },
     "metadata": {
      "needs_background": "light"
     },
     "output_type": "display_data"
    }
   ],
   "source": [
    "fig, (ax1, ax2) = plt.subplots(1,2)\n",
    "fig.set_size_inches(\n",
    "    FIG_WIDTH_INCHES * 2, \n",
    "    FIG_HEIGHT_INCHES\n",
    ")\n",
    "\n",
    "bin_list = list(np.arange(7))\n",
    "plot_histogram(\n",
    "    axis=ax1,\n",
    "    data_frame=train_data[\n",
    "        train_data[\"Survived\"]==1\n",
    "    ],\n",
    "    data_column_string=\"Parch\",\n",
    "    bins_list=bin_list,\n",
    "    colour_string=SURVIVED_COLOUR,\n",
    "    xlabel_string=\"Parents/Children Aboard\",\n",
    "    ylabel_string=\"Probabilty of Surviving\",\n",
    "    title_string=\"Survived,\\nDistribution of Parents/Children Aboard\",\n",
    "    linewidth_num=1,\n",
    "    alignment_string=\"left\",\n",
    "    density_flag=True\n",
    ")\n",
    "\n",
    "plot_histogram(\n",
    "    axis=ax2,\n",
    "    data_frame=train_data[\n",
    "        train_data[\"Survived\"]==0\n",
    "    ],\n",
    "    data_column_string=\"Parch\",\n",
    "    bins_list=bin_list,\n",
    "    colour_string=DID_NOT_SURVIVE_COLOUR,\n",
    "    xlabel_string=\"Parents/Children Abord\",\n",
    "    ylabel_string=\"Probability of Not Surviving\",\n",
    "    title_string=\"Did Not Survive,\\nDistribution of Parents/Children Abord\",\n",
    "    linewidth_num=1,\n",
    "    alignment_string=\"left\",\n",
    "    density_flag=True\n",
    ")\n",
    "\n",
    "# Adjust the x-limits on the first plot to match that of the second\n",
    "ax1.set_ylim(\n",
    "    ax2.get_ylim()\n",
    ")\n",
    "plt.tight_layout()\n",
    "plt.show()"
   ]
  },
  {
   "cell_type": "markdown",
   "metadata": {},
   "source": [
    "Passengers with one or two parents/children aboard had higher chances of survival. This conforms with what we know about the Titanic, that parents with children were prioritized in the lifeboats. However, it does seem that larger families seem to perish.\n",
    "\n",
    "Parch is a determinant of survival on the Titanic."
   ]
  },
  {
   "cell_type": "markdown",
   "metadata": {},
   "source": [
    "<a id=\"further_data_analysis_embarked\"></a>\n",
    "## Port of Embarkment"
   ]
  },
  {
   "cell_type": "code",
   "execution_count": 40,
   "metadata": {},
   "outputs": [
    {
     "data": {
      "text/plain": [
       "S    646\n",
       "C    168\n",
       "Q     77\n",
       "Name: Embarked, dtype: int64"
      ]
     },
     "execution_count": 40,
     "metadata": {},
     "output_type": "execute_result"
    }
   ],
   "source": [
    "train_data[\"Embarked\"].value_counts()"
   ]
  },
  {
   "cell_type": "code",
   "execution_count": 41,
   "metadata": {},
   "outputs": [
    {
     "name": "stdout",
     "output_type": "stream",
     "text": [
      "[646. 168.  77.]\n",
      "[0.         0.66666667 1.33333333 2.        ]\n"
     ]
    },
    {
     "data": {
      "image/png": "[encoded data removed]",
      "text/plain": [
       "<Figure size 360x360 with 1 Axes>"
      ]
     },
     "metadata": {
      "needs_background": "light"
     },
     "output_type": "display_data"
    }
   ],
   "source": [
    "# Plot a histogram of the number of where people embarked\n",
    "fig = plt.figure(\n",
    "    figsize=(\n",
    "        FIG_WIDTH_INCHES,\n",
    "        FIG_HEIGHT_INCHES\n",
    "    )\n",
    ")\n",
    "ax = fig.add_subplot(111)\n",
    "[bins, labels, patches] = plot_histogram(\n",
    "    axis=ax,\n",
    "    data_frame=train_data,\n",
    "    data_column_string=\"Embarked\",\n",
    "    bins_list=3,\n",
    "    colour_string=TITANIC_COLOUR,\n",
    "    xlabel_string=\"Where Passengers Embarked\",\n",
    "    ylabel_string=\"Count\",\n",
    "    title_string=\"Distribution of Number of Parents/Children\\nin the Titanic training data set\",\n",
    "    linewidth_num=1,\n",
    "    alignment_string=\"left\"\n",
    ")\n",
    "\n",
    "# Take look at bins and labels\n",
    "print(bins)\n",
    "print(labels)\n",
    "\n",
    "# The bin edges are 0, 2/3, 4/3, and 2\n",
    "# The left edges of the bins are 0, 2/3, and 4/3.\n",
    "# Re-set the x-ticklabels to these values and re-define the label\n",
    "# Drop this into a little utility function\n",
    "def correct_embarkment_labels(axis):\n",
    "    axis.set_xticks(\n",
    "        np.linspace(0, 4/3, 3)\n",
    "    )\n",
    "    axis.set_xticklabels(\n",
    "        [\n",
    "            \"Southampton\",\n",
    "            \"Cherbourg\",\n",
    "            \"Queenstown\"\n",
    "        ]\n",
    "    )\n",
    "\n",
    "    # Rotate the labels\n",
    "    for x in axis.get_xticklabels():\n",
    "        x.set_rotation(45)\n",
    "\n",
    "correct_embarkment_labels(ax)       \n",
    "plt.tight_layout()\n",
    "plt.show()"
   ]
  },
  {
   "cell_type": "markdown",
   "metadata": {},
   "source": [
    "The vast majority of passengers got on at Southampton. Let's look at port of embarkment in the survived/did not survive populations."
   ]
  },
  {
   "cell_type": "code",
   "execution_count": 42,
   "metadata": {},
   "outputs": [
    {
     "data": {
      "image/png": "[encoded data removed]",
      "text/plain": [
       "<Figure size 720x360 with 2 Axes>"
      ]
     },
     "metadata": {
      "needs_background": "light"
     },
     "output_type": "display_data"
    }
   ],
   "source": [
    "fig, (ax1, ax2) = plt.subplots(1,2)\n",
    "fig.set_size_inches(\n",
    "    FIG_WIDTH_INCHES * 2, \n",
    "    FIG_HEIGHT_INCHES\n",
    ")\n",
    "\n",
    "bin_list = 3\n",
    "plot_histogram(\n",
    "    axis=ax1,\n",
    "    data_frame=train_data[\n",
    "        train_data[\"Survived\"]==1\n",
    "    ],\n",
    "    data_column_string=\"Embarked\",\n",
    "    bins_list=bin_list,\n",
    "    colour_string=SURVIVED_COLOUR,\n",
    "    xlabel_string=\"Port of Embarkment\",\n",
    "    ylabel_string=\"Survived Count\",\n",
    "    title_string=\"Survived,\\nDistribution of Port of Embarkment\",\n",
    "    linewidth_num=1,\n",
    "    alignment_string=\"left\",\n",
    ")\n",
    "\n",
    "plot_histogram(\n",
    "    axis=ax2,\n",
    "    data_frame=train_data[\n",
    "        train_data[\"Survived\"]==0\n",
    "    ],\n",
    "    data_column_string=\"Embarked\",\n",
    "    bins_list=bin_list,\n",
    "    colour_string=DID_NOT_SURVIVE_COLOUR,\n",
    "    xlabel_string=\"Parents/Children Abord\",\n",
    "    ylabel_string=\"Survived Count\",\n",
    "    title_string=\"Did Not Survive,\\nDistribution of Port of Embarkment\",\n",
    "    linewidth_num=1,\n",
    "    alignment_string=\"left\",\n",
    ")\n",
    "\n",
    "# Correct the labels\n",
    "correct_embarkment_labels(ax1)\n",
    "correct_embarkment_labels(ax2)\n",
    "plt.tight_layout()\n",
    "plt.show()"
   ]
  },
  {
   "cell_type": "markdown",
   "metadata": {},
   "source": [
    "Of the passengers that survived, most embarked at Cherbourg. Of the passengers that perished, most embarked at Southampton. \n",
    "\n",
    "Port of embarkment is a determinant of passenger survival."
   ]
  },
  {
   "cell_type": "markdown",
   "metadata": {},
   "source": [
    "<a id=\"further_data_analysis_summary\"></a>\n",
    "## Summary\n",
    "Ticket class (Pclass), Sex, and Port of Embarkment (Embarked) are the strongest determinant of survival.\n",
    "\n",
    "Number of parents/children (Parch) and the fare paid (Fare) seem also to be determinants of survival, but less strong than ticket class, sex, and port of embarkment.\n",
    "\n",
    "Age also seems to be a determinant of survival, in that it's correlated with sex."
   ]
  },
  {
   "cell_type": "markdown",
   "metadata": {},
   "source": [
    "<a id=\"feature_engineering\"></a>\n",
    "# Feature Engineering\n",
    "We saw that ticket class, fare, sex, port of embarkment seemed to determine who survived and who didn't survive. Taken as a whole, these factors are indicative of socioeconomic strata. It's not surprising that people of higher socioeconomic strata tended to survive, while those of lower strata tended to perish.\n",
    "\n",
    "So far, we haven't used the Name feature. We note all the names are in the format of `[Last Name], [Title]. [First Name] [Middle Name]`. Let's make a new feature called Title, which just contains the person's title."
   ]
  },
  {
   "cell_type": "markdown",
   "metadata": {},
   "source": [
    "<a id=\"feature_engineering_title\"></a>\n",
    "## Title\n",
    "Fortunately all the names have been cleaned, and they are all in a consistent format. The strategy to get the title is to split on the comma and select what comes after it. Then, split on the period, and select what comes before it, and strip off any white space."
   ]
  },
  {
   "cell_type": "code",
   "execution_count": 43,
   "metadata": {},
   "outputs": [
    {
     "data": {
      "text/html": [
       "<div>\n",
       "<style scoped>\n",
       "    .dataframe tbody tr th:only-of-type {\n",
       "        vertical-align: middle;\n",
       "    }\n",
       "\n",
       "    .dataframe tbody tr th {\n",
       "        vertical-align: top;\n",
       "    }\n",
       "\n",
       "    .dataframe thead th {\n",
       "        text-align: right;\n",
       "    }\n",
       "</style>\n",
       "<table border=\"1\" class=\"dataframe\">\n",
       "  <thead>\n",
       "    <tr style=\"text-align: right;\">\n",
       "      <th></th>\n",
       "      <th>Name</th>\n",
       "    </tr>\n",
       "  </thead>\n",
       "  <tbody>\n",
       "    <tr>\n",
       "      <th>0</th>\n",
       "      <td>Braund, Mr. Owen Harris</td>\n",
       "    </tr>\n",
       "    <tr>\n",
       "      <th>1</th>\n",
       "      <td>Cumings, Mrs. John Bradley (Florence Briggs Th...</td>\n",
       "    </tr>\n",
       "    <tr>\n",
       "      <th>2</th>\n",
       "      <td>Heikkinen, Miss. Laina</td>\n",
       "    </tr>\n",
       "    <tr>\n",
       "      <th>3</th>\n",
       "      <td>Futrelle, Mrs. Jacques Heath (Lily May Peel)</td>\n",
       "    </tr>\n",
       "    <tr>\n",
       "      <th>4</th>\n",
       "      <td>Allen, Mr. William Henry</td>\n",
       "    </tr>\n",
       "  </tbody>\n",
       "</table>\n",
       "</div>"
      ],
      "text/plain": [
       "                                                Name\n",
       "0                            Braund, Mr. Owen Harris\n",
       "1  Cumings, Mrs. John Bradley (Florence Briggs Th...\n",
       "2                             Heikkinen, Miss. Laina\n",
       "3       Futrelle, Mrs. Jacques Heath (Lily May Peel)\n",
       "4                           Allen, Mr. William Henry"
      ]
     },
     "execution_count": 43,
     "metadata": {},
     "output_type": "execute_result"
    }
   ],
   "source": [
    "# Look at the first few names.\n",
    "train_data[[\"Name\"]].iloc[0:5]"
   ]
  },
  {
   "cell_type": "code",
   "execution_count": 44,
   "metadata": {},
   "outputs": [],
   "source": [
    "def create_title_feature(data):\n",
    "    data[\"title\"] = data[\"Name\"].apply(\n",
    "        lambda x: (x.split(\",\")[1]).split(\".\")[0].strip()\n",
    "    )\n",
    "create_title_feature(train_data)"
   ]
  },
  {
   "cell_type": "code",
   "execution_count": 45,
   "metadata": {},
   "outputs": [
    {
     "data": {
      "text/plain": [
       "Mr              517\n",
       "Miss            182\n",
       "Mrs             125\n",
       "Master           40\n",
       "Dr                7\n",
       "Rev               6\n",
       "Major             2\n",
       "Col               2\n",
       "Mlle              2\n",
       "the Countess      1\n",
       "Jonkheer          1\n",
       "Sir               1\n",
       "Mme               1\n",
       "Ms                1\n",
       "Capt              1\n",
       "Don               1\n",
       "Lady              1\n",
       "Name: title, dtype: int64"
      ]
     },
     "execution_count": 45,
     "metadata": {},
     "output_type": "execute_result"
    }
   ],
   "source": [
    "# Take a look at the values and counts for the different titles\n",
    "train_data[\"title\"].value_counts()"
   ]
  },
  {
   "cell_type": "markdown",
   "metadata": {},
   "source": [
    "Master is a title reserved for a boy, indicating a younger man. Similarly, Miss is a title for a girl, indicating a younger woman. Mlle is French for Ms, indicating a single unmarried woman. Mme is French for Mrs, Jonkheer is (the lowest) title of nobility. Don is also a title for nobility. So, let's map Mlle to Ms, Mme to Mrs."
   ]
  },
  {
   "cell_type": "code",
   "execution_count": 46,
   "metadata": {},
   "outputs": [
    {
     "data": {
      "text/plain": [
       "Mr              517\n",
       "Miss            182\n",
       "Mrs             126\n",
       "Master           40\n",
       "Dr                7\n",
       "Rev               6\n",
       "Ms                3\n",
       "Major             2\n",
       "Col               2\n",
       "the Countess      1\n",
       "Don               1\n",
       "Sir               1\n",
       "Capt              1\n",
       "Jonkheer          1\n",
       "Lady              1\n",
       "Name: title, dtype: int64"
      ]
     },
     "execution_count": 46,
     "metadata": {},
     "output_type": "execute_result"
    }
   ],
   "source": [
    "def map_french_titles_to_english(data):\n",
    "    data.loc[\n",
    "        data[\"title\"] == \"Mlle\",\n",
    "        \"title\"\n",
    "    ] = \"Ms\"\n",
    "    data.loc[\n",
    "        data[\"title\"] == \"Mme\",\n",
    "        \"title\"\n",
    "    ] = \"Mrs\"\n",
    "\n",
    "map_french_titles_to_english(train_data)\n",
    "\n",
    "# Check that the transformation was successful.\n",
    "train_data[\"title\"].value_counts()"
   ]
  },
  {
   "cell_type": "code",
   "execution_count": 47,
   "metadata": {},
   "outputs": [
    {
     "data": {
      "text/plain": [
       "Mr        240\n",
       "Miss       78\n",
       "Mrs        72\n",
       "Master     21\n",
       "Col         2\n",
       "Rev         2\n",
       "Dr          1\n",
       "Ms          1\n",
       "Dona        1\n",
       "Name: title, dtype: int64"
      ]
     },
     "execution_count": 47,
     "metadata": {},
     "output_type": "execute_result"
    }
   ],
   "source": [
    "# Apply the same transformation to the test data\n",
    "create_title_feature(test_data)\n",
    "map_french_titles_to_english(test_data)\n",
    "test_data[\"title\"].value_counts()"
   ]
  },
  {
   "cell_type": "markdown",
   "metadata": {},
   "source": [
    "We see that there is an extra entry in the test data, not in the train data, called Dona, which is a title for nobility."
   ]
  },
  {
   "cell_type": "markdown",
   "metadata": {},
   "source": [
    "<a id=\"feature_engineering_socioec\"></a>\n",
    "## Socioeconomic Stratum\n",
    "Let's very arbitrarily assign who is \"high socioeconomic stratum\" and who isn't. Let's take a look at how many people of each title were aboard and what was their fate."
   ]
  },
  {
   "cell_type": "code",
   "execution_count": 48,
   "metadata": {},
   "outputs": [
    {
     "data": {
      "text/html": [
       "<div>\n",
       "<style scoped>\n",
       "    .dataframe tbody tr th:only-of-type {\n",
       "        vertical-align: middle;\n",
       "    }\n",
       "\n",
       "    .dataframe tbody tr th {\n",
       "        vertical-align: top;\n",
       "    }\n",
       "\n",
       "    .dataframe thead th {\n",
       "        text-align: right;\n",
       "    }\n",
       "</style>\n",
       "<table border=\"1\" class=\"dataframe\">\n",
       "  <thead>\n",
       "    <tr style=\"text-align: right;\">\n",
       "      <th></th>\n",
       "      <th>Survived</th>\n",
       "      <th>Count of People with Title</th>\n",
       "    </tr>\n",
       "    <tr>\n",
       "      <th>title</th>\n",
       "      <th></th>\n",
       "      <th></th>\n",
       "    </tr>\n",
       "  </thead>\n",
       "  <tbody>\n",
       "    <tr>\n",
       "      <th>Capt</th>\n",
       "      <td>0</td>\n",
       "      <td>1</td>\n",
       "    </tr>\n",
       "    <tr>\n",
       "      <th>Col</th>\n",
       "      <td>1</td>\n",
       "      <td>2</td>\n",
       "    </tr>\n",
       "    <tr>\n",
       "      <th>Don</th>\n",
       "      <td>0</td>\n",
       "      <td>1</td>\n",
       "    </tr>\n",
       "    <tr>\n",
       "      <th>Dr</th>\n",
       "      <td>3</td>\n",
       "      <td>7</td>\n",
       "    </tr>\n",
       "    <tr>\n",
       "      <th>Jonkheer</th>\n",
       "      <td>0</td>\n",
       "      <td>1</td>\n",
       "    </tr>\n",
       "    <tr>\n",
       "      <th>Lady</th>\n",
       "      <td>1</td>\n",
       "      <td>1</td>\n",
       "    </tr>\n",
       "    <tr>\n",
       "      <th>Major</th>\n",
       "      <td>1</td>\n",
       "      <td>2</td>\n",
       "    </tr>\n",
       "    <tr>\n",
       "      <th>Master</th>\n",
       "      <td>23</td>\n",
       "      <td>40</td>\n",
       "    </tr>\n",
       "    <tr>\n",
       "      <th>Miss</th>\n",
       "      <td>127</td>\n",
       "      <td>182</td>\n",
       "    </tr>\n",
       "    <tr>\n",
       "      <th>Mr</th>\n",
       "      <td>81</td>\n",
       "      <td>517</td>\n",
       "    </tr>\n",
       "    <tr>\n",
       "      <th>Mrs</th>\n",
       "      <td>100</td>\n",
       "      <td>126</td>\n",
       "    </tr>\n",
       "    <tr>\n",
       "      <th>Ms</th>\n",
       "      <td>3</td>\n",
       "      <td>3</td>\n",
       "    </tr>\n",
       "    <tr>\n",
       "      <th>Rev</th>\n",
       "      <td>0</td>\n",
       "      <td>6</td>\n",
       "    </tr>\n",
       "    <tr>\n",
       "      <th>Sir</th>\n",
       "      <td>1</td>\n",
       "      <td>1</td>\n",
       "    </tr>\n",
       "    <tr>\n",
       "      <th>the Countess</th>\n",
       "      <td>1</td>\n",
       "      <td>1</td>\n",
       "    </tr>\n",
       "  </tbody>\n",
       "</table>\n",
       "</div>"
      ],
      "text/plain": [
       "              Survived  Count of People with Title\n",
       "title                                             \n",
       "Capt                 0                           1\n",
       "Col                  1                           2\n",
       "Don                  0                           1\n",
       "Dr                   3                           7\n",
       "Jonkheer             0                           1\n",
       "Lady                 1                           1\n",
       "Major                1                           2\n",
       "Master              23                          40\n",
       "Miss               127                         182\n",
       "Mr                  81                         517\n",
       "Mrs                100                         126\n",
       "Ms                   3                           3\n",
       "Rev                  0                           6\n",
       "Sir                  1                           1\n",
       "the Countess         1                           1"
      ]
     },
     "execution_count": 48,
     "metadata": {},
     "output_type": "execute_result"
    }
   ],
   "source": [
    "train_data.groupby(\"title\").agg(\n",
    "    {\n",
    "        \"Survived\": \"sum\",\n",
    "        \"PassengerId\": \"count\"\n",
    "    }\n",
    ").rename(\n",
    "    columns={\n",
    "        \"PassengerId\" : \"Count of People with Title\"\n",
    "    }\n",
    ")"
   ]
  },
  {
   "cell_type": "markdown",
   "metadata": {},
   "source": [
    "Apart from Mr, Mrs, Master, and Miss, let's assume that any of these titles that had approximately 50% survival rate is \"high socioeconomic strata\"."
   ]
  },
  {
   "cell_type": "code",
   "execution_count": 49,
   "metadata": {},
   "outputs": [
    {
     "data": {
      "text/html": [
       "<div>\n",
       "<style scoped>\n",
       "    .dataframe tbody tr th:only-of-type {\n",
       "        vertical-align: middle;\n",
       "    }\n",
       "\n",
       "    .dataframe tbody tr th {\n",
       "        vertical-align: top;\n",
       "    }\n",
       "\n",
       "    .dataframe thead th {\n",
       "        text-align: right;\n",
       "    }\n",
       "</style>\n",
       "<table border=\"1\" class=\"dataframe\">\n",
       "  <thead>\n",
       "    <tr style=\"text-align: right;\">\n",
       "      <th></th>\n",
       "      <th>PassengerId</th>\n",
       "      <th>Survived</th>\n",
       "      <th>Pclass</th>\n",
       "      <th>Name</th>\n",
       "      <th>Sex</th>\n",
       "      <th>Age</th>\n",
       "      <th>SibSp</th>\n",
       "      <th>Parch</th>\n",
       "      <th>Ticket</th>\n",
       "      <th>Fare</th>\n",
       "      <th>Cabin</th>\n",
       "      <th>Embarked</th>\n",
       "      <th>title</th>\n",
       "      <th>SocioEc</th>\n",
       "    </tr>\n",
       "  </thead>\n",
       "  <tbody>\n",
       "    <tr>\n",
       "      <th>0</th>\n",
       "      <td>1</td>\n",
       "      <td>0</td>\n",
       "      <td>3</td>\n",
       "      <td>Braund, Mr. Owen Harris</td>\n",
       "      <td>male</td>\n",
       "      <td>22.0</td>\n",
       "      <td>1</td>\n",
       "      <td>0</td>\n",
       "      <td>A/5 21171</td>\n",
       "      <td>7.2500</td>\n",
       "      <td>NaN</td>\n",
       "      <td>S</td>\n",
       "      <td>Mr</td>\n",
       "      <td>0</td>\n",
       "    </tr>\n",
       "    <tr>\n",
       "      <th>1</th>\n",
       "      <td>2</td>\n",
       "      <td>1</td>\n",
       "      <td>1</td>\n",
       "      <td>Cumings, Mrs. John Bradley (Florence Briggs Th...</td>\n",
       "      <td>female</td>\n",
       "      <td>38.0</td>\n",
       "      <td>1</td>\n",
       "      <td>0</td>\n",
       "      <td>PC 17599</td>\n",
       "      <td>71.2833</td>\n",
       "      <td>C85</td>\n",
       "      <td>C</td>\n",
       "      <td>Mrs</td>\n",
       "      <td>0</td>\n",
       "    </tr>\n",
       "    <tr>\n",
       "      <th>2</th>\n",
       "      <td>3</td>\n",
       "      <td>1</td>\n",
       "      <td>3</td>\n",
       "      <td>Heikkinen, Miss. Laina</td>\n",
       "      <td>female</td>\n",
       "      <td>26.0</td>\n",
       "      <td>0</td>\n",
       "      <td>0</td>\n",
       "      <td>STON/O2. 3101282</td>\n",
       "      <td>7.9250</td>\n",
       "      <td>NaN</td>\n",
       "      <td>S</td>\n",
       "      <td>Miss</td>\n",
       "      <td>0</td>\n",
       "    </tr>\n",
       "    <tr>\n",
       "      <th>3</th>\n",
       "      <td>4</td>\n",
       "      <td>1</td>\n",
       "      <td>1</td>\n",
       "      <td>Futrelle, Mrs. Jacques Heath (Lily May Peel)</td>\n",
       "      <td>female</td>\n",
       "      <td>35.0</td>\n",
       "      <td>1</td>\n",
       "      <td>0</td>\n",
       "      <td>113803</td>\n",
       "      <td>53.1000</td>\n",
       "      <td>C123</td>\n",
       "      <td>S</td>\n",
       "      <td>Mrs</td>\n",
       "      <td>0</td>\n",
       "    </tr>\n",
       "    <tr>\n",
       "      <th>4</th>\n",
       "      <td>5</td>\n",
       "      <td>0</td>\n",
       "      <td>3</td>\n",
       "      <td>Allen, Mr. William Henry</td>\n",
       "      <td>male</td>\n",
       "      <td>35.0</td>\n",
       "      <td>0</td>\n",
       "      <td>0</td>\n",
       "      <td>373450</td>\n",
       "      <td>8.0500</td>\n",
       "      <td>NaN</td>\n",
       "      <td>S</td>\n",
       "      <td>Mr</td>\n",
       "      <td>0</td>\n",
       "    </tr>\n",
       "  </tbody>\n",
       "</table>\n",
       "</div>"
      ],
      "text/plain": [
       "   PassengerId  Survived  Pclass  \\\n",
       "0            1         0       3   \n",
       "1            2         1       1   \n",
       "2            3         1       3   \n",
       "3            4         1       1   \n",
       "4            5         0       3   \n",
       "\n",
       "                                                Name     Sex   Age  SibSp  \\\n",
       "0                            Braund, Mr. Owen Harris    male  22.0      1   \n",
       "1  Cumings, Mrs. John Bradley (Florence Briggs Th...  female  38.0      1   \n",
       "2                             Heikkinen, Miss. Laina  female  26.0      0   \n",
       "3       Futrelle, Mrs. Jacques Heath (Lily May Peel)  female  35.0      1   \n",
       "4                           Allen, Mr. William Henry    male  35.0      0   \n",
       "\n",
       "   Parch            Ticket     Fare Cabin Embarked title  SocioEc  \n",
       "0      0         A/5 21171   7.2500   NaN        S    Mr        0  \n",
       "1      0          PC 17599  71.2833   C85        C   Mrs        0  \n",
       "2      0  STON/O2. 3101282   7.9250   NaN        S  Miss        0  \n",
       "3      0            113803  53.1000  C123        S   Mrs        0  \n",
       "4      0            373450   8.0500   NaN        S    Mr        0  "
      ]
     },
     "execution_count": 49,
     "metadata": {},
     "output_type": "execute_result"
    }
   ],
   "source": [
    "socioec_keys = list(pd.unique(train_data[\"title\"]))\n",
    "socioec_vals = [\n",
    "    0, # Mr\n",
    "    0, # Mrs\n",
    "    0, # Miss\n",
    "    0, # Master\n",
    "    0, # Don\n",
    "    0, # Rev\n",
    "    1, # Dr\n",
    "    1, # Ms\n",
    "    1, # Major\n",
    "    1, # Lady\n",
    "    1, # Sir\n",
    "    1, # Col\n",
    "    0, # Capt\n",
    "    1, # the Countess\n",
    "    0, # Jonkheer\n",
    "]\n",
    "socioec_dict = dict(\n",
    "    zip(\n",
    "        socioec_keys,\n",
    "        socioec_vals\n",
    "    )\n",
    ")\n",
    "\n",
    "def create_socioec_feature(data):\n",
    "    data[\"SocioEc\"] = data[\"title\"].apply(\n",
    "        lambda x: socioec_dict.get(x, 0) # In case we encounter a value not in our list, assume it's low socioec\n",
    "    )\n",
    "\n",
    "create_socioec_feature(train_data)\n",
    "train_data.head()"
   ]
  },
  {
   "cell_type": "code",
   "execution_count": 50,
   "metadata": {},
   "outputs": [],
   "source": [
    "# Transform the test data in the same way\n",
    "create_socioec_feature(test_data)"
   ]
  },
  {
   "cell_type": "markdown",
   "metadata": {},
   "source": [
    "<a id=\"machine_learning\"></a>\n",
    "# Machine Learning"
   ]
  },
  {
   "cell_type": "markdown",
   "metadata": {},
   "source": [
    "<a id=\"machine_learning_attempt_1\"></a>\n",
    "## Attempt 1: All numerical and categorical features: 78.95%\n",
    "For our initial pass at predicting survival aboard the Titanic, let's use a random forest classifier, which is the simplest ensemble learning method. Let's start using all the numeric and categorical features. This means using Pclass, Name, Age, SibSp, Parch, Fare, and Embarked. We exclude PassengerId, since it's just an index. We also leave out Cabin, Ticket, and Name, as (after the initial data analysis) we didn't ascribe any meaning to these features."
   ]
  },
  {
   "cell_type": "code",
   "execution_count": 51,
   "metadata": {},
   "outputs": [],
   "source": [
    "from sklearn.ensemble import RandomForestClassifier\n",
    "\n",
    "y = train_data[\"Survived\"]\n",
    "\n",
    "features = [\n",
    "    \"Pclass\", \n",
    "    \"Sex\",\n",
    "    \"Age\",\n",
    "    \"SibSp\", \n",
    "    \"Parch\",\n",
    "    \"Fare\",\n",
    "    \"Embarked\"\n",
    "]\n",
    "\n",
    "X = pd.get_dummies(train_data[features])\n",
    "X_test = pd.get_dummies(test_data[features])\n",
    "\n",
    "n_estimators=1000\n",
    "max_depth=6\n",
    "model = RandomForestClassifier(n_estimators=n_estimators, max_depth=max_depth, random_state=1)\n",
    "model.fit(X, y)\n",
    "predictions = model.predict(X_test)\n",
    "\n",
    "output = pd.DataFrame({'PassengerId': test_data.PassengerId, 'Survived': predictions})\n",
    "output.to_csv(\n",
    "    (\n",
    "        \"random_forest_\"\n",
    "        + \"n_estimators\"\n",
    "        + \"%d\"%(n_estimators)\n",
    "        + \"max_depth\"\n",
    "        + \"%d\"%(max_depth)\n",
    "        + \"\".join(features)\n",
    "        + \".csv\"\n",
    "    ),\n",
    "    index=False\n",
    ")\n",
    "\n",
    "# Scored 78.95%"
   ]
  },
  {
   "cell_type": "markdown",
   "metadata": {},
   "source": [
    "<a id=\"machine_learning_attempt_2\"></a>\n",
    "## Attempt 2: Use only the strong determinants (Pclass, Sex, and Embarked): 77.75%"
   ]
  },
  {
   "cell_type": "code",
   "execution_count": 52,
   "metadata": {},
   "outputs": [],
   "source": [
    "y = train_data[\"Survived\"]\n",
    "\n",
    "features = [\n",
    "    \"Pclass\", \n",
    "    \"Sex\",\n",
    "    \"Embarked\"\n",
    "]\n",
    "\n",
    "X = pd.get_dummies(train_data[features])\n",
    "X_test = pd.get_dummies(test_data[features])\n",
    "\n",
    "n_estimators=1000\n",
    "max_depth=6\n",
    "model = RandomForestClassifier(n_estimators=n_estimators, max_depth=max_depth, random_state=1)\n",
    "model.fit(X, y)\n",
    "predictions = model.predict(X_test)\n",
    "\n",
    "output = pd.DataFrame({'PassengerId': test_data.PassengerId, 'Survived': predictions})\n",
    "output.to_csv(\n",
    "    (\n",
    "        \"random_forest_\"\n",
    "        + \"n_estimators\"\n",
    "        + \"%d\"%(n_estimators)\n",
    "        + \"max_depth\"\n",
    "        + \"%d\"%(max_depth)\n",
    "        + \"\".join(features)\n",
    "        + \".csv\"\n",
    "    ),\n",
    "    index=False\n",
    ")"
   ]
  },
  {
   "cell_type": "markdown",
   "metadata": {},
   "source": [
    "Using only these \"strong\" indicators is less accurate than using everything."
   ]
  },
  {
   "cell_type": "markdown",
   "metadata": {},
   "source": [
    "<a id=\"machine_learning_attempt_3\"></a>\n",
    "## Attempt 3: Use strongest and strong determinants (Pclass, Sex, Embarked, Parch): 77.75%"
   ]
  },
  {
   "cell_type": "code",
   "execution_count": 53,
   "metadata": {},
   "outputs": [],
   "source": [
    "y = train_data[\"Survived\"]\n",
    "\n",
    "features = [\n",
    "    \"Pclass\", \n",
    "    \"Sex\",\n",
    "    \"Embarked\",\n",
    "    \"Parch\"\n",
    "]\n",
    "\n",
    "X = pd.get_dummies(train_data[features])\n",
    "X_test = pd.get_dummies(test_data[features])\n",
    "\n",
    "n_estimators=1000\n",
    "max_depth=6\n",
    "model = RandomForestClassifier(n_estimators=n_estimators, max_depth=max_depth, random_state=1)\n",
    "model.fit(X, y)\n",
    "predictions = model.predict(X_test)\n",
    "\n",
    "output = pd.DataFrame({'PassengerId': test_data.PassengerId, 'Survived': predictions})\n",
    "output.to_csv(\n",
    "    (\n",
    "        \"random_forest_\"\n",
    "        + \"n_estimators\"\n",
    "        + \"%d\"%(n_estimators)\n",
    "        + \"max_depth\"\n",
    "        + \"%d\"%(max_depth)\n",
    "        + \"\".join(features)\n",
    "        + \".csv\"\n",
    "    ),\n",
    "    index=False\n",
    ")"
   ]
  },
  {
   "cell_type": "markdown",
   "metadata": {},
   "source": [
    "<a id=\"machine_learning_attempt_4\"></a>\n",
    "## Attempt 4: Include SocioEc feature alongside all categorical and numerical features: 78.71%\n"
   ]
  },
  {
   "cell_type": "code",
   "execution_count": 54,
   "metadata": {},
   "outputs": [],
   "source": [
    "y = train_data[\"Survived\"]\n",
    "\n",
    "features = [\n",
    "    \"Pclass\", \n",
    "    \"Sex\",\n",
    "    \"Age\",\n",
    "    \"SibSp\", \n",
    "    \"Parch\",\n",
    "    \"Fare\",\n",
    "    \"Embarked\",\n",
    "    \"SocioEc\"\n",
    "]\n",
    "\n",
    "X = pd.get_dummies(train_data[features])\n",
    "X_test = pd.get_dummies(test_data[features])\n",
    "\n",
    "n_estimators=1000\n",
    "max_depth=6\n",
    "model = RandomForestClassifier(n_estimators=n_estimators, max_depth=max_depth, random_state=1)\n",
    "model.fit(X, y)\n",
    "predictions = model.predict(X_test)\n",
    "\n",
    "output = pd.DataFrame({'PassengerId': test_data.PassengerId, 'Survived': predictions})\n",
    "output.to_csv(\n",
    "    (\n",
    "        \"random_forest_\"\n",
    "        + \"n_estimators\"\n",
    "        + \"%d\"%(n_estimators)\n",
    "        + \"max_depth\"\n",
    "        + \"%d\"%(max_depth)\n",
    "        + \"\".join(features)\n",
    "        + \".csv\"\n",
    "    ),\n",
    "    index=False\n",
    ")\n",
    "# Scored 78.71%"
   ]
  },
  {
   "cell_type": "markdown",
   "metadata": {},
   "source": [
    "<a id=\"machine_learning_attempt_5\"></a>\n",
    "## Attempt 5: Use a k-nearest neighbours classifier: 66.27%"
   ]
  },
  {
   "cell_type": "code",
   "execution_count": 55,
   "metadata": {},
   "outputs": [],
   "source": [
    "from sklearn.neighbors import KNeighborsClassifier\n",
    "\n",
    "y = train_data[\"Survived\"]\n",
    "features = [\n",
    "    \"Pclass\", \n",
    "    \"Sex\",\n",
    "    \"Age\",\n",
    "    \"SibSp\", \n",
    "    \"Parch\",\n",
    "    \"Fare\",\n",
    "    \"Embarked\",\n",
    "    \"SocioEc\"\n",
    "]\n",
    "X = pd.get_dummies(train_data[features])\n",
    "X_test = pd.get_dummies(test_data[features])\n",
    "\n",
    "nearest_neighbours=20\n",
    "knn_clf = KNeighborsClassifier(n_neighbors=nearest_neighbours)\n",
    "knn_clf.fit(X, y)\n",
    "predictions = knn_clf.predict(X_test)\n",
    "output = pd.DataFrame({'PassengerId': test_data.PassengerId, 'Survived': predictions})\n",
    "output.to_csv('knn_classifier_submission.csv', index=False)\n",
    "output.to_csv(\n",
    "    (\n",
    "        \"k_neighbours_classifier_\"\n",
    "        + \"nearest_neighbours=\"\n",
    "        + \"%d\"%(nearest_neighbours)\n",
    "        + \"\".join(features)\n",
    "        + \".csv\"\n",
    "    ),\n",
    "    index=False\n",
    ")"
   ]
  }
 ],
 "metadata": {
  "kernelspec": {
   "display_name": "Python 3",
   "language": "python",
   "name": "python3"
  },
  "language_info": {
   "codemirror_mode": {
    "name": "ipython",
    "version": 3
   },
   "file_extension": ".py",
   "mimetype": "text/x-python",
   "name": "python",
   "nbconvert_exporter": "python",
   "pygments_lexer": "ipython3",
   "version": "3.8.9"
  }
 },
 "nbformat": 4,
 "nbformat_minor": 4
}
